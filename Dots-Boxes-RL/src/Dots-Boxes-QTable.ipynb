{
 "cells": [
  {
   "cell_type": "code",
   "execution_count": 1,
   "metadata": {},
   "outputs": [],
   "source": [
    "import random\n",
    "import pickle\n",
    "\n",
    "import time\n",
    "import os.path\n",
    "from tqdm import tqdm\n"
   ]
  },
  {
   "cell_type": "code",
   "execution_count": 2,
   "metadata": {},
   "outputs": [],
   "source": [
    "#board representation\n",
    "VERT = 0\n",
    "HORZ = 1\n",
    "ACTIONS = [\"v\", \"h\"]\n",
    "ACTION_N = {\"v\": 0, \"h\": 1}\n",
    "\n",
    "# rewards:\n",
    "REWARD_WIN = 5.0\n",
    "REWARD_LOSE = 0.0\n",
    "REWARD_TIE = 0\n",
    "REWARD_PLAY = 0\n",
    "REWARD_BOX = 1.0\n",
    "\n",
    "class Board:\n",
    "    \"\"\"Board representation used in game\n",
    "\n",
    "    store the board as a [nb_rows+1][nb_cols+1][3] array.\n",
    "    where the inner array is [VERT, HORZ, CAPTURED_PLAYER]\n",
    "    \"\"\"\n",
    "    def __init__(self, nb_rows, nb_cols):\n",
    "        \"\"\"Create a new empty board\"\"\"\n",
    "        self.nb_rows = nb_rows\n",
    "        self.nb_cols = nb_cols\n",
    "        # zero for every dot\n",
    "        # [vertical, horizontal, captured player]\n",
    "        self.state = [[\n",
    "            [0, 0, 0] for _ in range(nb_cols+1)] for _ in range(nb_rows+1)]\n",
    "\n",
    "        self.scores = [0, 0]\n",
    "\n",
    "    def copy(self):\n",
    "        \"\"\"Creates a new board containing the same data as the current board\"\"\"\n",
    "        ret = Board(self.nb_rows, self.nb_cols)\n",
    "        for row in range(self.nb_rows+1):\n",
    "            for col in range(self.nb_cols+1):\n",
    "                ret.state[row][col][0] = self.state[row][col][0]\n",
    "                ret.state[row][col][1] = self.state[row][col][1]\n",
    "        ret.scores = self.scores.copy()\n",
    "        return ret\n",
    "\n",
    "    def capture(self, row, col, player=None):\n",
    "        \"\"\"Let player capture the given cell\"\"\"\n",
    "        if player is None:\n",
    "            col = row[1]\n",
    "            row = row[0]\n",
    "        self.state[row][col][2] = player\n",
    "        self.scores[player-1] += 1\n",
    "\n",
    "    def get(self, row, col, dir=None):\n",
    "        \"\"\"Returns the value at the given edge position\"\"\"\n",
    "        return self.state[row][col][dir]\n",
    "\n",
    "    def get_owner(self, row, col=None):\n",
    "        \"\"\"Returns the owner of the given cell position\"\"\"\n",
    "        if col is None:\n",
    "            col = row[1]\n",
    "            row = row[0]\n",
    "        return self.state[row][col][2]\n",
    "\n",
    "    def set(self, row, col_dir, dir_val, value=None):\n",
    "        \"\"\"Sets the given edge to the given value\"\"\"\n",
    "        if value is None:\n",
    "            value = dir_val\n",
    "            col_dir = row[1]\n",
    "            row = row[0]\n",
    "\n",
    "        assert 0 <= row <= self.nb_rows\n",
    "        assert 0 <= col_dir <= self.nb_cols\n",
    "        assert row != self.nb_rows or dir_val == HORZ\n",
    "        assert col_dir != self.nb_cols or dir_val == VERT\n",
    "        assert 0 <= value < 3\n",
    "\n",
    "        self.state[row][col_dir][dir_val] = value\n",
    "\n",
    "    def do_move(self, row, col, d, player):\n",
    "        \n",
    "        captured = False\n",
    "\n",
    "        \n",
    "        self.set(row, col, d, player)\n",
    "        # check captured box\n",
    "        if d == HORZ:\n",
    "            if row > 0 and \\\n",
    "                self.get(row-1, col, VERT) != 0 and \\\n",
    "                self.get(row-1, col+1, VERT) != 0 and \\\n",
    "                self.get(row-1, col, HORZ) != 0 and \\\n",
    "                self.get(row, col, HORZ) != 0:\n",
    "                captured = True\n",
    "                self.capture(row-1, col, player)\n",
    "            if row < self.nb_rows and \\\n",
    "                self.get(row, col, VERT) != 0 and \\\n",
    "                self.get(row, col+1, VERT) != 0 and \\\n",
    "                self.get(row, col, HORZ) != 0 and \\\n",
    "                self.get(row+1, col, HORZ) != 0:\n",
    "                captured = True\n",
    "                self.capture(row, col, player)\n",
    "        if d == VERT:\n",
    "            if col > 0 and \\\n",
    "                self.get(row, col-1, VERT) != 0 and \\\n",
    "                self.get(row, col, VERT) != 0 and \\\n",
    "                self.get(row, col-1, HORZ) != 0 and \\\n",
    "                self.get(row+1, col-1, HORZ) != 0:\n",
    "                captured = True\n",
    "                self.capture(row, col-1, player)\n",
    "            if col < self.nb_cols and \\\n",
    "                self.get(row, col, VERT) != 0 and \\\n",
    "                self.get(row, col+1, VERT) != 0 and \\\n",
    "                self.get(row, col, HORZ) != 0 and \\\n",
    "                self.get(row+1, col, HORZ) != 0:\n",
    "                captured = True\n",
    "                self.capture(row, col, player)\n",
    "                \n",
    "        return captured\n",
    "\n",
    "    def has_ended(self):\n",
    "        return self.scores[0] + self.scores[1] == self.nb_cols * self.nb_rows\n",
    "\n",
    "    def get_winner(self):\n",
    "        if self.scores[0] > self.scores[1]:\n",
    "            return 1\n",
    "        elif self.scores[1] > self.scores[0]:\n",
    "            return 2\n",
    "        return 0\n",
    "\n",
    "    def get_score(self, player):\n",
    "        return self.scores[player-1]\n",
    "\n",
    "    def __repr__(self):\n",
    "        return str(self)\n",
    "\n",
    "    def __str__(self):\n",
    "        ret = \"\"\n",
    "        for row in range(self.nb_rows+1):\n",
    "            line1 = \"\"\n",
    "            line2 = \"\"\n",
    "            for col in range(self.nb_cols+1):\n",
    "                line1 += \"+\"\n",
    "                h = self.get(row, col, HORZ)\n",
    "                v = self.get(row, col, VERT)\n",
    "                o = self.get_owner(row, col)\n",
    "\n",
    "                line1 += \" -=\"[h]\n",
    "                line2 += \" |I\"[v]\n",
    "                line2 += \" 12\"[o]\n",
    "            ret += line1 + \"\\n\"\n",
    "            ret += line2 + \"\\n\"\n",
    "        ret += \"scores: \" + str(self.scores) + \" ended: \"+ str(self.has_ended())\n",
    "        return ret"
   ]
  },
  {
   "cell_type": "code",
   "execution_count": 3,
   "metadata": {},
   "outputs": [],
   "source": [
    "class QPlayer():\n",
    "    \"\"\"Simple Q learning based player using a dictonary as table\"\"\"\n",
    "    def __init__(self, grid, player=None):\n",
    "        \n",
    "        self.player = player\n",
    "        self.board_rows = grid[0]\n",
    "        self.board_cols = grid[1]\n",
    "        self.all_moves = []\n",
    "        \n",
    "        for row in range(self.board_rows+1):\n",
    "            for col in range(self.board_cols+1):\n",
    "                for dir in [0, 1]:\n",
    "                    if row < self.board_rows or col < self.board_cols:\n",
    "                        self.all_moves.append((row, col, dir))\n",
    "\n",
    "        # start with 100 % exploration\n",
    "        self.exploration = 0.2\n",
    "        self.final_exploration = 0.02\n",
    "        self.exploration_fraction = 100000\n",
    "\n",
    "        self.expl_update = (self.exploration - self.final_exploration) \\\n",
    "            / self.exploration_fraction\n",
    "\n",
    "        self.alpha = 1.0\n",
    "        self.gamma = 0.7\n",
    "\n",
    "        self.update = True\n",
    "\n",
    "        self.step = 0\n",
    "\n",
    "        self.Q = {}\n",
    "        self.load()\n",
    "        \n",
    "    def get_possible_moves(self, board):\n",
    "        \"\"\"Returns a list of posible move tuples\"\"\"\n",
    "        poss = []\n",
    "        for row in range(self.board_rows+1):\n",
    "            for col in range(self.board_cols+1):\n",
    "                if row < self.board_rows and board.get(row, col, VERT) == 0:\n",
    "                    poss.append((row, col, VERT))\n",
    "                if col < self.board_cols and board.get(row, col, HORZ) == 0:\n",
    "                    poss.append((row, col, HORZ))\n",
    "        return poss\n",
    "\n",
    "\n",
    "    def to_state(self, board):\n",
    "        \"\"\"Converts a board to an immutable tuple for use in the dictionary\"\"\"\n",
    "        return tuple([tuple([(x[0] != 0, x[1] != 0) for x in a])\n",
    "                        for a in board.state])\n",
    "\n",
    "    def getQ(self, state, action):\n",
    "        \"\"\"Gets the Q value from the dictionary\"\"\"\n",
    "        if state in self.Q:\n",
    "            if action in self.Q[state]:\n",
    "                return self.Q[state][action]\n",
    "        return 0\n",
    "\n",
    "    def updateQ(self, state, action, next_state, reward, done):\n",
    "        \"\"\"Updates the Q value after playing a move\n",
    "\n",
    "        Args:\n",
    "            state: the state the move was made in\n",
    "            action: the move that was player\n",
    "            next_state: the resulting state after this action\n",
    "                            (and after the other player moved)\n",
    "            reward: the reward received for playing this move\n",
    "            done: boolean wheter the game was done (used for next Q value)\n",
    "        \"\"\"\n",
    "        max_q_next = 0\n",
    "\n",
    "        self.exploration = \\\n",
    "            max(self.exploration - self.expl_update, self.final_exploration)\n",
    "\n",
    "        # don't get max_q_next if done:\n",
    "        if not done and next_state in self.Q:\n",
    "            max_q_next = max(self.Q[next_state].values())\n",
    "\n",
    "        if state not in self.Q:\n",
    "            self.Q[state] = {}\n",
    "\n",
    "        self.Q[state][action] = self.getQ(state, action) * (1 - self.alpha) + \\\n",
    "                self.alpha * (reward + self.gamma * max_q_next)\n",
    "\n",
    "        self.step += 1\n",
    "\n",
    "\n",
    "    def play(self, board, player=None, train=False):\n",
    "        \"\"\"Plays randomly with exploration probability during training\"\"\"\n",
    "        state = self.to_state(board)\n",
    "        actions = self.get_possible_moves(board)\n",
    "\n",
    "        if train and random.random() < self.exploration:\n",
    "            return random.choice(actions)\n",
    "        else:\n",
    "            return max(actions, key=(lambda a: self.getQ(state, a)))\n",
    "\n",
    "    def reward(self, board, action, next_board, reward, done, player=None):\n",
    "        \"\"\"Rewards the player, updates the Q values\"\"\"\n",
    "        if not self.update:\n",
    "            return\n",
    "\n",
    "        assert board is not None\n",
    "        state = self.to_state(board)\n",
    "        next_state = None\n",
    "        if next_board is not None:\n",
    "            next_state = self.to_state(next_board)\n",
    "        self.updateQ(state, action, next_state, reward, done)\n",
    "\n",
    "    def get_save_name(self):\n",
    "        name = \"q_value\" + str(self.board_rows) + \"x\" + str(self.board_cols)\n",
    "        name += \".pickle\"\n",
    "        return name\n",
    "\n",
    "    def load(self):\n",
    "        name = self.get_save_name()\n",
    "        if os.path.exists(name):\n",
    "            with open(name, \"rb\") as f:\n",
    "                self.Q = pickle.load(f)\n",
    "\n",
    "    def save(self):\n",
    "        name = self.get_save_name()\n",
    "        with open(name, \"wb\") as f:\n",
    "            pickle.dump(self.Q, f)"
   ]
  },
  {
   "cell_type": "code",
   "execution_count": 4,
   "metadata": {},
   "outputs": [],
   "source": [
    "class DotsnBoxes:\n",
    "    \"\"\"\n",
    "    Class for Dots and Boxes Game for training and evaluation\n",
    "    \"\"\"\n",
    "    def __init__(self, size, player1, player2):\n",
    "        \"\"\"Create a new game of the given size\n",
    "\n",
    "        Args:\n",
    "            size: board size\n",
    "            player1: a constructor for creating the first player\n",
    "            player2: a constructor for creating the second player\n",
    "        \"\"\"\n",
    "        self.size = size\n",
    "        self.players = [player1(size), player2(size)]\n",
    "        self.rand_start = True\n",
    "        self.start_player = 0\n",
    "        self.cur_player = self.start_player\n",
    "\n",
    "        self.play_times = [0, 0]\n",
    "        self.steps = [0, 0]\n",
    "        self.reset()\n",
    "\n",
    "    def reset(self):\n",
    "        \"\"\"Resets the game to the initial state\"\"\"\n",
    "        self.board = Board(self.size[0], self.size[1])\n",
    "\n",
    "        self.cur_player =  self.start_player\n",
    "        if self.rand_start:\n",
    "            self.cur_player = 1 - self.start_player\n",
    "        self.start_player = self.cur_player\n",
    "\n",
    "        self.ended = False\n",
    "        self.winner = None\n",
    "    \n",
    "        self.last_boards = [None, None]\n",
    "        self.last_actions = [None, None]\n",
    "\n",
    "    def copy(self):\n",
    "        \"\"\"Creates a copy of this game with both players set to none\"\"\"\n",
    "        ret = Game(self.size, None, None)\n",
    "        \n",
    "        ret.rand_start = self.rand_start\n",
    "        ret.start_player = self.start_player\n",
    "        ret.play_times = [self.play_times[0], self.play_times[1]]\n",
    "        ret.steps = [self.steps[0], self.steps[1]]\n",
    "        \n",
    "        ret.board = self.board.copy()\n",
    "        ret.cur_player = self.cur_player\n",
    "        ret.ended = self.ended\n",
    "        ret.winner = self.winner\n",
    "        ret.cheated = self.cheated\n",
    "        ret.last_boards = self.last_actions.copy()\n",
    "        ret.last_actions = self.last_actions.copy()\n",
    "\n",
    "    def update_board(self, row, col, d):\n",
    "        \"\"\"updates the board for the given move, also updates scores\"\"\"\n",
    "        # update board\n",
    "        captured = self.board.do_move(row, col, d, self.cur_player+1)\n",
    "\n",
    "        # checking win\n",
    "        if self.board.has_ended():\n",
    "            # game over\n",
    "            self.ended = True\n",
    "            self.winner = self.board.get_winner() - 1\n",
    "            if self.winner < 0:\n",
    "                self.winner = None\n",
    "\n",
    "        # next player:\n",
    "        if not captured and not self.ended:\n",
    "            self.cur_player = 1 - self.cur_player\n",
    "\n",
    "        return captured\n",
    "\n",
    "    def step(self, train=False):\n",
    "        \"\"\"\n",
    "        lets one player move and updates the board, reward the player as well\n",
    "        \"\"\"\n",
    "        assert not self.ended\n",
    "\n",
    "        cp = self.cur_player\n",
    "        op = 1 - cp\n",
    "        cur_player = self.players[self.cur_player]\n",
    "        other_player = self.players[1-self.cur_player]\n",
    "\n",
    "        # save board for rewards\n",
    "        self.last_boards[self.cur_player] = self.board.copy()\n",
    "\n",
    "        start_time = time.time()\n",
    "        row, col, d = cur_player.play(self.board, self.cur_player, train)\n",
    "        elapsed = time.time() - start_time\n",
    "        self.play_times[self.cur_player] += elapsed\n",
    "        self.steps[self.cur_player] += 1\n",
    "\n",
    "        # save action for rewards\n",
    "        self.last_actions[self.cur_player] = (row, col, d)\n",
    "\n",
    "        # update board\n",
    "        captured = self.update_board(row, col, d)\n",
    "\n",
    "        # give reward:\n",
    "        if train:\n",
    "            \n",
    "            if self.ended:\n",
    "                if self.winner is None:\n",
    "                    cur_player.reward(\n",
    "                        self.last_boards[cp], self.last_actions[cp],\n",
    "                        None, REWARD_TIE, True, cp)\n",
    "                    other_player.reward(\n",
    "                        self.last_boards[op], self.last_actions[op],\n",
    "                                        None, REWARD_TIE, True, op)\n",
    "                else:\n",
    "                    w = self.winner\n",
    "                    l = 1 - self.winner\n",
    "                    self.players[w].reward(\n",
    "                        self.last_boards[w], self.last_actions[w],\n",
    "                        None, REWARD_WIN, True, w)\n",
    "                    self.players[l].reward(\n",
    "                        self.last_boards[l], self.last_actions[l],\n",
    "                        None, REWARD_LOSE, True, l)\n",
    "            else:\n",
    "                if captured:\n",
    "                    cur_player.reward(\n",
    "                        self.last_boards[cp], self.last_actions[cp], self.board,\n",
    "                        REWARD_BOX, False, cp)\n",
    "                elif self.last_boards[op] is not None:\n",
    "                    other_player.reward(\n",
    "                        self.last_boards[op], self.last_actions[op], self.board,\n",
    "                        REWARD_PLAY, False, op)\n",
    "\n",
    "    def play_game(self):\n",
    "        \"\"\"Plays one game, printing the board after each move\"\"\"\n",
    "        self.reset()\n",
    "        while not self.ended:\n",
    "            print(\"player: \",  self.cur_player + 1)\n",
    "            self.step()\n",
    "            print(self)\n",
    "\n",
    "    def eval(self, n_games):\n",
    "        \"\"\"\n",
    "        evaluates the players by playing n_games and summerizing the result\n",
    "        \"\"\"\n",
    "        start_time = time.time()\n",
    "        ret = self.train(n_games, False)\n",
    "        end_time = time.time()\n",
    "        elapsed = end_time - start_time\n",
    "        print(\"total time:\", elapsed, \"per game:\", elapsed / n_games)\n",
    "        return ret\n",
    "\n",
    "    def train(self, n_games, train=True):\n",
    "        \"\"\"\n",
    "        Plays n_games tracking some statistics,\n",
    "        if train is true also rewards the players\n",
    "        \"\"\"\n",
    "        wins = [0, 0]\n",
    "        draws = 0\n",
    "\n",
    "        scores = [0, 0]\n",
    "\n",
    "        self.play_times = [0, 0]\n",
    "        self.steps = [0, 0]\n",
    "\n",
    "        def p(x, n = 1000):\n",
    "            return round(x / n * 100, 1)\n",
    "\n",
    "        for idx in tqdm(range(n_games)):\n",
    "            self.reset()\n",
    "\n",
    "            while not self.ended:\n",
    "                self.step(train)\n",
    "   \n",
    "            scores[0] += self.board.get_score(1)\n",
    "            scores[1] += self.board.get_score(2)\n",
    "            if self.winner is None:\n",
    "                draws += 1\n",
    "            else:\n",
    "                wins[self.winner] += 1\n",
    "\n",
    "            if train and (idx+1) % 1000 == 0:\n",
    "                print(\"scores: \\t\", scores[0], \"\\t\", scores[1])\n",
    "                print(\"wins: \\t\\t\", wins[0],\n",
    "                    \" (\", p(wins[0]),\"%)\\t\", wins[1], \" (\", p(wins[1]), \"%)\")\n",
    "                print(\"draws: \", draws, \" (\", p(draws), \"%)\")\n",
    "                print(\"-----------------------------------------------\")\n",
    "                wins = [0, 0]\n",
    "                draws = 0\n",
    "\n",
    "                scores = [0, 0]\n",
    "\n",
    "                cheats = [0, 0]\n",
    "\n",
    "                self.players[0].save()\n",
    "                self.players[1].save()\n",
    "\n",
    "        if not train:\n",
    "            print(\"scores: \\t\", scores[0], \"\\t\", scores[1])\n",
    "            print(\"wins:   \\t\", wins[0],\n",
    "                \" (\", p(wins[0], n_games),\"%)\\t\", wins[1],\n",
    "                \" (\", p(wins[1], n_games), \"%)\")\n",
    "            print(\"draws: \", draws, \" (\", p(draws, n_games), \"%)\")\n",
    "            print(\"avg play time:\\t\", self.play_times[0] / self.steps[0],\n",
    "                \"\\t\", self.play_times[1] / self.steps[0])\n",
    "            print(\"-----------------------------------------------\")\n",
    "\n",
    "        return wins[0], wins[1], draws\n",
    "\n",
    "    def __repr__(self):\n",
    "        return str(self)\n",
    "\n",
    "    def __str__(self):\n",
    "        ret = str(self.board) + \"\\n\"\n",
    "        if self.ended and self.winner is not None:\n",
    "            ret += \"\\nwinner: \" + str(self.winner+1)\n",
    "        return ret"
   ]
  },
  {
   "cell_type": "code",
   "execution_count": 5,
   "metadata": {},
   "outputs": [],
   "source": [
    "\n",
    "\n",
    "class HumanPlayer():\n",
    "    \"\"\"This player plays randomly excpet when it can capture a box\"\"\"\n",
    "    def __init__(self, grid, player=None):\n",
    "        self.player = player\n",
    "        self.board_rows = grid[0]\n",
    "        self.board_cols = grid[1]\n",
    "        self.all_moves = []\n",
    "        \n",
    "        for row in range(self.board_rows+1):\n",
    "            for col in range(self.board_cols+1):\n",
    "                for dir in [0, 1]:\n",
    "                    if row < self.board_rows or col < self.board_cols:\n",
    "                        self.all_moves.append((row, col, dir))\n",
    "    \n",
    "    def get_possible_moves(self, board):\n",
    "        \"\"\"Returns a list of posible move tuples\"\"\"\n",
    "        poss = []\n",
    "        for row in range(self.board_rows+1):\n",
    "            for col in range(self.board_cols+1):\n",
    "                if row < self.board_rows and board.get(row, col, VERT) == 0:\n",
    "                    poss.append((row, col, VERT))\n",
    "                if col < self.board_cols and board.get(row, col, HORZ) == 0:\n",
    "                    poss.append((row, col, HORZ))\n",
    "        return poss\n",
    "\n",
    "    def play(self, board, player=None, train=False):\n",
    "        for row in range(self.board_rows):\n",
    "            for col in range(self.board_cols):\n",
    "                if board.get_owner(row, col) != 0:\n",
    "                    continue\n",
    "                open_edges = []\n",
    "                if board.get(row, col, HORZ) == 0:\n",
    "                    open_edges.append((row, col, HORZ))\n",
    "                if board.get(row, col, VERT) == 0:\n",
    "                    open_edges.append((row, col, VERT))\n",
    "                if board.get(row+1, col, HORZ) == 0:\n",
    "                    open_edges.append((row+1, col, HORZ))\n",
    "                if board.get(row, col+1, VERT) == 0:\n",
    "                    open_edges.append((row, col+1, VERT))\n",
    "\n",
    "                if len(open_edges) == 1:\n",
    "                    return open_edges[0]\n",
    "        return random.choice(self.get_possible_moves(board))\n",
    "    def reward(self, board, action, next_board, reward, done, player=None):\n",
    "        pass\n",
    "    def load(self):\n",
    "        pass\n",
    "    def save(self):\n",
    "        pass\n",
    "    "
   ]
  },
  {
   "cell_type": "code",
   "execution_count": 6,
   "metadata": {},
   "outputs": [
    {
     "name": "stderr",
     "output_type": "stream",
     "text": [
      "100%|██████████| 100/100 [00:00<00:00, 1636.95it/s]\n",
      " 19%|█▉        | 193/1000 [00:00<00:00, 1928.29it/s]"
     ]
    },
    {
     "name": "stdout",
     "output_type": "stream",
     "text": [
      "Training for 100 games\n",
      "Training for 1000 games\n"
     ]
    },
    {
     "name": "stderr",
     "output_type": "stream",
     "text": [
      "100%|██████████| 1000/1000 [00:00<00:00, 1834.70it/s]\n",
      "  2%|▏         | 197/10000 [00:00<00:04, 1969.78it/s]"
     ]
    },
    {
     "name": "stdout",
     "output_type": "stream",
     "text": [
      "scores: \t 1889 \t 2111\n",
      "wins: \t\t 307  ( 30.7 %)\t 385  ( 38.5 %)\n",
      "draws:  308  ( 30.8 %)\n",
      "-----------------------------------------------\n",
      "Training for 10000 games\n"
     ]
    },
    {
     "name": "stderr",
     "output_type": "stream",
     "text": [
      " 13%|█▎        | 1293/10000 [00:00<00:04, 1793.88it/s]"
     ]
    },
    {
     "name": "stdout",
     "output_type": "stream",
     "text": [
      "scores: \t 1944 \t 2056\n",
      "wins: \t\t 318  ( 31.8 %)\t 353  ( 35.3 %)\n",
      "draws:  329  ( 32.9 %)\n",
      "-----------------------------------------------\n"
     ]
    },
    {
     "name": "stderr",
     "output_type": "stream",
     "text": [
      " 23%|██▎       | 2262/10000 [00:01<00:04, 1866.48it/s]"
     ]
    },
    {
     "name": "stdout",
     "output_type": "stream",
     "text": [
      "scores: \t 1859 \t 2141\n",
      "wins: \t\t 276  ( 27.6 %)\t 372  ( 37.2 %)\n",
      "draws:  352  ( 35.2 %)\n",
      "-----------------------------------------------\n"
     ]
    },
    {
     "name": "stderr",
     "output_type": "stream",
     "text": [
      " 32%|███▏      | 3214/10000 [00:01<00:03, 1844.47it/s]"
     ]
    },
    {
     "name": "stdout",
     "output_type": "stream",
     "text": [
      "scores: \t 1908 \t 2092\n",
      "wins: \t\t 298  ( 29.8 %)\t 367  ( 36.7 %)\n",
      "draws:  335  ( 33.5 %)\n",
      "-----------------------------------------------\n"
     ]
    },
    {
     "name": "stderr",
     "output_type": "stream",
     "text": [
      " 42%|████▏     | 4201/10000 [00:02<00:03, 1899.35it/s]"
     ]
    },
    {
     "name": "stdout",
     "output_type": "stream",
     "text": [
      "scores: \t 1933 \t 2067\n",
      "wins: \t\t 306  ( 30.6 %)\t 351  ( 35.1 %)\n",
      "draws:  343  ( 34.3 %)\n",
      "-----------------------------------------------\n"
     ]
    },
    {
     "name": "stderr",
     "output_type": "stream",
     "text": [
      " 52%|█████▏    | 5201/10000 [00:02<00:02, 1905.67it/s]"
     ]
    },
    {
     "name": "stdout",
     "output_type": "stream",
     "text": [
      "scores: \t 1955 \t 2045\n",
      "wins: \t\t 323  ( 32.3 %)\t 346  ( 34.6 %)\n",
      "draws:  331  ( 33.1 %)\n",
      "-----------------------------------------------\n"
     ]
    },
    {
     "name": "stderr",
     "output_type": "stream",
     "text": [
      " 62%|██████▏   | 6206/10000 [00:03<00:01, 1941.63it/s]"
     ]
    },
    {
     "name": "stdout",
     "output_type": "stream",
     "text": [
      "scores: \t 1958 \t 2042\n",
      "wins: \t\t 333  ( 33.3 %)\t 353  ( 35.3 %)\n",
      "draws:  314  ( 31.4 %)\n",
      "-----------------------------------------------\n"
     ]
    },
    {
     "name": "stderr",
     "output_type": "stream",
     "text": [
      " 72%|███████▏  | 7200/10000 [00:03<00:01, 1884.29it/s]"
     ]
    },
    {
     "name": "stdout",
     "output_type": "stream",
     "text": [
      "scores: \t 1987 \t 2013\n",
      "wins: \t\t 341  ( 34.1 %)\t 350  ( 35.0 %)\n",
      "draws:  309  ( 30.9 %)\n",
      "-----------------------------------------------\n"
     ]
    },
    {
     "name": "stderr",
     "output_type": "stream",
     "text": [
      " 82%|████████▏ | 8201/10000 [00:04<00:00, 1881.84it/s]"
     ]
    },
    {
     "name": "stdout",
     "output_type": "stream",
     "text": [
      "scores: \t 2018 \t 1982\n",
      "wins: \t\t 365  ( 36.5 %)\t 352  ( 35.2 %)\n",
      "draws:  283  ( 28.3 %)\n",
      "-----------------------------------------------\n"
     ]
    },
    {
     "name": "stderr",
     "output_type": "stream",
     "text": [
      " 92%|█████████▏| 9192/10000 [00:04<00:00, 1719.98it/s]"
     ]
    },
    {
     "name": "stdout",
     "output_type": "stream",
     "text": [
      "scores: \t 2079 \t 1921\n",
      "wins: \t\t 356  ( 35.6 %)\t 319  ( 31.9 %)\n",
      "draws:  325  ( 32.5 %)\n",
      "-----------------------------------------------\n"
     ]
    },
    {
     "name": "stderr",
     "output_type": "stream",
     "text": [
      "100%|██████████| 10000/10000 [00:05<00:00, 1855.21it/s]\n",
      "  0%|          | 157/100000 [00:00<01:04, 1556.72it/s]"
     ]
    },
    {
     "name": "stdout",
     "output_type": "stream",
     "text": [
      "scores: \t 2130 \t 1870\n",
      "wins: \t\t 368  ( 36.8 %)\t 282  ( 28.2 %)\n",
      "draws:  350  ( 35.0 %)\n",
      "-----------------------------------------------\n",
      "Training for 100000 games\n"
     ]
    },
    {
     "name": "stderr",
     "output_type": "stream",
     "text": [
      "  1%|▏         | 1323/100000 [00:00<00:59, 1663.79it/s]"
     ]
    },
    {
     "name": "stdout",
     "output_type": "stream",
     "text": [
      "scores: \t 2148 \t 1852\n",
      "wins: \t\t 363  ( 36.3 %)\t 301  ( 30.1 %)\n",
      "draws:  336  ( 33.6 %)\n",
      "-----------------------------------------------\n"
     ]
    },
    {
     "name": "stderr",
     "output_type": "stream",
     "text": [
      "  2%|▏         | 2178/100000 [00:01<00:58, 1672.88it/s]"
     ]
    },
    {
     "name": "stdout",
     "output_type": "stream",
     "text": [
      "scores: \t 2230 \t 1770\n",
      "wins: \t\t 392  ( 39.2 %)\t 259  ( 25.9 %)\n",
      "draws:  349  ( 34.9 %)\n",
      "-----------------------------------------------\n"
     ]
    },
    {
     "name": "stderr",
     "output_type": "stream",
     "text": [
      "  3%|▎         | 3314/100000 [00:01<00:53, 1803.91it/s]"
     ]
    },
    {
     "name": "stdout",
     "output_type": "stream",
     "text": [
      "scores: \t 2192 \t 1808\n",
      "wins: \t\t 403  ( 40.3 %)\t 282  ( 28.2 %)\n",
      "draws:  315  ( 31.5 %)\n",
      "-----------------------------------------------\n"
     ]
    },
    {
     "name": "stderr",
     "output_type": "stream",
     "text": [
      "  4%|▍         | 4257/100000 [00:02<00:52, 1813.68it/s]"
     ]
    },
    {
     "name": "stdout",
     "output_type": "stream",
     "text": [
      "scores: \t 2253 \t 1747\n",
      "wins: \t\t 418  ( 41.8 %)\t 245  ( 24.5 %)\n",
      "draws:  337  ( 33.7 %)\n",
      "-----------------------------------------------\n"
     ]
    },
    {
     "name": "stderr",
     "output_type": "stream",
     "text": [
      "  5%|▌         | 5203/100000 [00:02<00:51, 1850.29it/s]"
     ]
    },
    {
     "name": "stdout",
     "output_type": "stream",
     "text": [
      "scores: \t 2315 \t 1685\n",
      "wins: \t\t 447  ( 44.7 %)\t 238  ( 23.8 %)\n",
      "draws:  315  ( 31.5 %)\n",
      "-----------------------------------------------\n"
     ]
    },
    {
     "name": "stderr",
     "output_type": "stream",
     "text": [
      "  6%|▋         | 6349/100000 [00:03<00:51, 1817.07it/s]"
     ]
    },
    {
     "name": "stdout",
     "output_type": "stream",
     "text": [
      "scores: \t 2367 \t 1633\n",
      "wins: \t\t 456  ( 45.6 %)\t 223  ( 22.3 %)\n",
      "draws:  321  ( 32.1 %)\n",
      "-----------------------------------------------\n"
     ]
    },
    {
     "name": "stderr",
     "output_type": "stream",
     "text": [
      "  7%|▋         | 7288/100000 [00:04<00:51, 1809.83it/s]"
     ]
    },
    {
     "name": "stdout",
     "output_type": "stream",
     "text": [
      "scores: \t 2404 \t 1596\n",
      "wins: \t\t 475  ( 47.5 %)\t 222  ( 22.2 %)\n",
      "draws:  303  ( 30.3 %)\n",
      "-----------------------------------------------\n"
     ]
    },
    {
     "name": "stderr",
     "output_type": "stream",
     "text": [
      "  8%|▊         | 8237/100000 [00:04<00:49, 1844.05it/s]"
     ]
    },
    {
     "name": "stdout",
     "output_type": "stream",
     "text": [
      "scores: \t 2391 \t 1609\n",
      "wins: \t\t 476  ( 47.6 %)\t 232  ( 23.2 %)\n",
      "draws:  292  ( 29.2 %)\n",
      "-----------------------------------------------\n"
     ]
    },
    {
     "name": "stderr",
     "output_type": "stream",
     "text": [
      "  9%|▉         | 9205/100000 [00:05<00:48, 1860.15it/s]"
     ]
    },
    {
     "name": "stdout",
     "output_type": "stream",
     "text": [
      "scores: \t 2442 \t 1558\n",
      "wins: \t\t 479  ( 47.9 %)\t 241  ( 24.1 %)\n",
      "draws:  280  ( 28.0 %)\n",
      "-----------------------------------------------\n"
     ]
    },
    {
     "name": "stderr",
     "output_type": "stream",
     "text": [
      " 10%|█         | 10360/100000 [00:05<00:47, 1876.46it/s]"
     ]
    },
    {
     "name": "stdout",
     "output_type": "stream",
     "text": [
      "scores: \t 2419 \t 1581\n",
      "wins: \t\t 480  ( 48.0 %)\t 229  ( 22.9 %)\n",
      "draws:  291  ( 29.1 %)\n",
      "-----------------------------------------------\n"
     ]
    },
    {
     "name": "stderr",
     "output_type": "stream",
     "text": [
      " 11%|█▏        | 11309/100000 [00:06<00:48, 1828.47it/s]"
     ]
    },
    {
     "name": "stdout",
     "output_type": "stream",
     "text": [
      "scores: \t 2366 \t 1634\n",
      "wins: \t\t 458  ( 45.8 %)\t 213  ( 21.3 %)\n",
      "draws:  329  ( 32.9 %)\n",
      "-----------------------------------------------\n"
     ]
    },
    {
     "name": "stderr",
     "output_type": "stream",
     "text": [
      " 12%|█▏        | 12265/100000 [00:06<00:47, 1839.83it/s]"
     ]
    },
    {
     "name": "stdout",
     "output_type": "stream",
     "text": [
      "scores: \t 2411 \t 1589\n",
      "wins: \t\t 467  ( 46.7 %)\t 212  ( 21.2 %)\n",
      "draws:  321  ( 32.1 %)\n",
      "-----------------------------------------------\n"
     ]
    },
    {
     "name": "stderr",
     "output_type": "stream",
     "text": [
      " 13%|█▎        | 13209/100000 [00:07<00:47, 1833.64it/s]"
     ]
    },
    {
     "name": "stdout",
     "output_type": "stream",
     "text": [
      "scores: \t 2433 \t 1567\n",
      "wins: \t\t 497  ( 49.7 %)\t 228  ( 22.8 %)\n",
      "draws:  275  ( 27.5 %)\n",
      "-----------------------------------------------\n"
     ]
    },
    {
     "name": "stderr",
     "output_type": "stream",
     "text": [
      " 14%|█▍        | 14342/100000 [00:07<00:47, 1818.78it/s]"
     ]
    },
    {
     "name": "stdout",
     "output_type": "stream",
     "text": [
      "scores: \t 2491 \t 1509\n",
      "wins: \t\t 515  ( 51.5 %)\t 182  ( 18.2 %)\n",
      "draws:  303  ( 30.3 %)\n",
      "-----------------------------------------------\n"
     ]
    },
    {
     "name": "stderr",
     "output_type": "stream",
     "text": [
      " 15%|█▌        | 15290/100000 [00:08<00:46, 1834.44it/s]"
     ]
    },
    {
     "name": "stdout",
     "output_type": "stream",
     "text": [
      "scores: \t 2405 \t 1595\n",
      "wins: \t\t 480  ( 48.0 %)\t 222  ( 22.2 %)\n",
      "draws:  298  ( 29.8 %)\n",
      "-----------------------------------------------\n"
     ]
    },
    {
     "name": "stderr",
     "output_type": "stream",
     "text": [
      " 16%|█▋        | 16271/100000 [00:08<00:44, 1867.10it/s]"
     ]
    },
    {
     "name": "stdout",
     "output_type": "stream",
     "text": [
      "scores: \t 2476 \t 1524\n",
      "wins: \t\t 525  ( 52.5 %)\t 226  ( 22.6 %)\n",
      "draws:  249  ( 24.9 %)\n",
      "-----------------------------------------------\n"
     ]
    },
    {
     "name": "stderr",
     "output_type": "stream",
     "text": [
      " 17%|█▋        | 17221/100000 [00:09<00:45, 1825.86it/s]"
     ]
    },
    {
     "name": "stdout",
     "output_type": "stream",
     "text": [
      "scores: \t 2423 \t 1577\n",
      "wins: \t\t 504  ( 50.4 %)\t 216  ( 21.6 %)\n",
      "draws:  280  ( 28.0 %)\n",
      "-----------------------------------------------\n"
     ]
    },
    {
     "name": "stderr",
     "output_type": "stream",
     "text": [
      " 18%|█▊        | 18207/100000 [00:09<00:42, 1904.36it/s]"
     ]
    },
    {
     "name": "stdout",
     "output_type": "stream",
     "text": [
      "scores: \t 2407 \t 1593\n",
      "wins: \t\t 481  ( 48.1 %)\t 211  ( 21.1 %)\n",
      "draws:  308  ( 30.8 %)\n",
      "-----------------------------------------------\n"
     ]
    },
    {
     "name": "stderr",
     "output_type": "stream",
     "text": [
      " 19%|█▉        | 19383/100000 [00:10<00:43, 1872.75it/s]"
     ]
    },
    {
     "name": "stdout",
     "output_type": "stream",
     "text": [
      "scores: \t 2440 \t 1560\n",
      "wins: \t\t 512  ( 51.2 %)\t 218  ( 21.8 %)\n",
      "draws:  270  ( 27.0 %)\n",
      "-----------------------------------------------\n"
     ]
    },
    {
     "name": "stderr",
     "output_type": "stream",
     "text": [
      " 20%|██        | 20358/100000 [00:11<00:42, 1876.67it/s]"
     ]
    },
    {
     "name": "stdout",
     "output_type": "stream",
     "text": [
      "scores: \t 2447 \t 1553\n",
      "wins: \t\t 503  ( 50.3 %)\t 208  ( 20.8 %)\n",
      "draws:  289  ( 28.9 %)\n",
      "-----------------------------------------------\n"
     ]
    },
    {
     "name": "stderr",
     "output_type": "stream",
     "text": [
      " 21%|██▏       | 21333/100000 [00:11<00:41, 1897.57it/s]"
     ]
    },
    {
     "name": "stdout",
     "output_type": "stream",
     "text": [
      "scores: \t 2409 \t 1591\n",
      "wins: \t\t 498  ( 49.8 %)\t 238  ( 23.8 %)\n",
      "draws:  264  ( 26.4 %)\n",
      "-----------------------------------------------\n"
     ]
    },
    {
     "name": "stderr",
     "output_type": "stream",
     "text": [
      " 22%|██▏       | 22301/100000 [00:12<00:41, 1858.40it/s]"
     ]
    },
    {
     "name": "stdout",
     "output_type": "stream",
     "text": [
      "scores: \t 2434 \t 1566\n",
      "wins: \t\t 501  ( 50.1 %)\t 201  ( 20.1 %)\n",
      "draws:  298  ( 29.8 %)\n",
      "-----------------------------------------------\n"
     ]
    },
    {
     "name": "stderr",
     "output_type": "stream",
     "text": [
      " 23%|██▎       | 23247/100000 [00:12<00:41, 1829.34it/s]"
     ]
    },
    {
     "name": "stdout",
     "output_type": "stream",
     "text": [
      "scores: \t 2396 \t 1604\n",
      "wins: \t\t 471  ( 47.1 %)\t 218  ( 21.8 %)\n",
      "draws:  311  ( 31.1 %)\n",
      "-----------------------------------------------\n"
     ]
    },
    {
     "name": "stderr",
     "output_type": "stream",
     "text": [
      " 24%|██▍       | 24206/100000 [00:13<00:41, 1844.62it/s]"
     ]
    },
    {
     "name": "stdout",
     "output_type": "stream",
     "text": [
      "scores: \t 2429 \t 1571\n",
      "wins: \t\t 490  ( 49.0 %)\t 214  ( 21.4 %)\n",
      "draws:  296  ( 29.6 %)\n",
      "-----------------------------------------------\n"
     ]
    },
    {
     "name": "stderr",
     "output_type": "stream",
     "text": [
      " 25%|██▌       | 25356/100000 [00:13<00:39, 1868.95it/s]"
     ]
    },
    {
     "name": "stdout",
     "output_type": "stream",
     "text": [
      "scores: \t 2421 \t 1579\n",
      "wins: \t\t 487  ( 48.7 %)\t 223  ( 22.3 %)\n",
      "draws:  290  ( 29.0 %)\n",
      "-----------------------------------------------\n"
     ]
    },
    {
     "name": "stderr",
     "output_type": "stream",
     "text": [
      " 26%|██▋       | 26305/100000 [00:14<00:39, 1842.57it/s]"
     ]
    },
    {
     "name": "stdout",
     "output_type": "stream",
     "text": [
      "scores: \t 2469 \t 1531\n",
      "wins: \t\t 510  ( 51.0 %)\t 231  ( 23.1 %)\n",
      "draws:  259  ( 25.9 %)\n",
      "-----------------------------------------------\n"
     ]
    },
    {
     "name": "stderr",
     "output_type": "stream",
     "text": [
      " 27%|██▋       | 27259/100000 [00:14<00:39, 1851.20it/s]"
     ]
    },
    {
     "name": "stdout",
     "output_type": "stream",
     "text": [
      "scores: \t 2506 \t 1494\n",
      "wins: \t\t 521  ( 52.1 %)\t 206  ( 20.6 %)\n",
      "draws:  273  ( 27.3 %)\n",
      "-----------------------------------------------\n"
     ]
    },
    {
     "name": "stderr",
     "output_type": "stream",
     "text": [
      " 28%|██▊       | 28234/100000 [00:15<00:38, 1869.95it/s]"
     ]
    },
    {
     "name": "stdout",
     "output_type": "stream",
     "text": [
      "scores: \t 2436 \t 1564\n",
      "wins: \t\t 498  ( 49.8 %)\t 208  ( 20.8 %)\n",
      "draws:  294  ( 29.4 %)\n",
      "-----------------------------------------------\n"
     ]
    },
    {
     "name": "stderr",
     "output_type": "stream",
     "text": [
      " 29%|██▉       | 29215/100000 [00:15<00:37, 1892.04it/s]"
     ]
    },
    {
     "name": "stdout",
     "output_type": "stream",
     "text": [
      "scores: \t 2433 \t 1567\n",
      "wins: \t\t 483  ( 48.3 %)\t 218  ( 21.8 %)\n",
      "draws:  299  ( 29.9 %)\n",
      "-----------------------------------------------\n"
     ]
    },
    {
     "name": "stderr",
     "output_type": "stream",
     "text": [
      " 30%|███       | 30362/100000 [00:16<00:37, 1856.36it/s]"
     ]
    },
    {
     "name": "stdout",
     "output_type": "stream",
     "text": [
      "scores: \t 2408 \t 1592\n",
      "wins: \t\t 476  ( 47.6 %)\t 214  ( 21.4 %)\n",
      "draws:  310  ( 31.0 %)\n",
      "-----------------------------------------------\n"
     ]
    },
    {
     "name": "stderr",
     "output_type": "stream",
     "text": [
      " 31%|███▏      | 31323/100000 [00:17<00:37, 1843.36it/s]"
     ]
    },
    {
     "name": "stdout",
     "output_type": "stream",
     "text": [
      "scores: \t 2413 \t 1587\n",
      "wins: \t\t 475  ( 47.5 %)\t 213  ( 21.3 %)\n",
      "draws:  312  ( 31.2 %)\n",
      "-----------------------------------------------\n"
     ]
    },
    {
     "name": "stderr",
     "output_type": "stream",
     "text": [
      " 32%|███▏      | 32294/100000 [00:17<00:35, 1885.33it/s]"
     ]
    },
    {
     "name": "stdout",
     "output_type": "stream",
     "text": [
      "scores: \t 2357 \t 1643\n",
      "wins: \t\t 457  ( 45.7 %)\t 223  ( 22.3 %)\n",
      "draws:  320  ( 32.0 %)\n",
      "-----------------------------------------------\n"
     ]
    },
    {
     "name": "stderr",
     "output_type": "stream",
     "text": [
      " 33%|███▎      | 33267/100000 [00:18<00:35, 1897.94it/s]"
     ]
    },
    {
     "name": "stdout",
     "output_type": "stream",
     "text": [
      "scores: \t 2382 \t 1618\n",
      "wins: \t\t 472  ( 47.2 %)\t 219  ( 21.9 %)\n",
      "draws:  309  ( 30.9 %)\n",
      "-----------------------------------------------\n"
     ]
    },
    {
     "name": "stderr",
     "output_type": "stream",
     "text": [
      " 34%|███▍      | 34226/100000 [00:18<00:35, 1868.10it/s]"
     ]
    },
    {
     "name": "stdout",
     "output_type": "stream",
     "text": [
      "scores: \t 2451 \t 1549\n",
      "wins: \t\t 487  ( 48.7 %)\t 193  ( 19.3 %)\n",
      "draws:  320  ( 32.0 %)\n",
      "-----------------------------------------------\n"
     ]
    },
    {
     "name": "stderr",
     "output_type": "stream",
     "text": [
      " 35%|███▌      | 35195/100000 [00:19<00:34, 1854.01it/s]"
     ]
    },
    {
     "name": "stdout",
     "output_type": "stream",
     "text": [
      "scores: \t 2461 \t 1539\n",
      "wins: \t\t 502  ( 50.2 %)\t 193  ( 19.3 %)\n",
      "draws:  305  ( 30.5 %)\n",
      "-----------------------------------------------\n"
     ]
    },
    {
     "name": "stderr",
     "output_type": "stream",
     "text": [
      " 36%|███▌      | 36169/100000 [00:19<00:34, 1828.73it/s]"
     ]
    },
    {
     "name": "stdout",
     "output_type": "stream",
     "text": [
      "scores: \t 2405 \t 1595\n",
      "wins: \t\t 485  ( 48.5 %)\t 227  ( 22.7 %)\n",
      "draws:  288  ( 28.8 %)\n",
      "-----------------------------------------------\n"
     ]
    },
    {
     "name": "stderr",
     "output_type": "stream",
     "text": [
      " 37%|███▋      | 37328/100000 [00:20<00:33, 1864.24it/s]"
     ]
    },
    {
     "name": "stdout",
     "output_type": "stream",
     "text": [
      "scores: \t 2470 \t 1530\n",
      "wins: \t\t 509  ( 50.9 %)\t 206  ( 20.6 %)\n",
      "draws:  285  ( 28.5 %)\n",
      "-----------------------------------------------\n"
     ]
    },
    {
     "name": "stderr",
     "output_type": "stream",
     "text": [
      " 38%|███▊      | 38286/100000 [00:20<00:33, 1863.81it/s]"
     ]
    },
    {
     "name": "stdout",
     "output_type": "stream",
     "text": [
      "scores: \t 2486 \t 1514\n",
      "wins: \t\t 510  ( 51.0 %)\t 192  ( 19.2 %)\n",
      "draws:  298  ( 29.8 %)\n",
      "-----------------------------------------------\n"
     ]
    },
    {
     "name": "stderr",
     "output_type": "stream",
     "text": [
      " 39%|███▉      | 39244/100000 [00:21<00:32, 1841.15it/s]"
     ]
    },
    {
     "name": "stdout",
     "output_type": "stream",
     "text": [
      "scores: \t 2406 \t 1594\n",
      "wins: \t\t 495  ( 49.5 %)\t 240  ( 24.0 %)\n",
      "draws:  265  ( 26.5 %)\n",
      "-----------------------------------------------\n"
     ]
    },
    {
     "name": "stderr",
     "output_type": "stream",
     "text": [
      " 40%|████      | 40223/100000 [00:21<00:31, 1885.33it/s]"
     ]
    },
    {
     "name": "stdout",
     "output_type": "stream",
     "text": [
      "scores: \t 2406 \t 1594\n",
      "wins: \t\t 502  ( 50.2 %)\t 231  ( 23.1 %)\n",
      "draws:  267  ( 26.7 %)\n",
      "-----------------------------------------------\n"
     ]
    },
    {
     "name": "stderr",
     "output_type": "stream",
     "text": [
      " 41%|████▏     | 41365/100000 [00:22<00:31, 1853.22it/s]"
     ]
    },
    {
     "name": "stdout",
     "output_type": "stream",
     "text": [
      "scores: \t 2433 \t 1567\n",
      "wins: \t\t 496  ( 49.6 %)\t 217  ( 21.7 %)\n",
      "draws:  287  ( 28.7 %)\n",
      "-----------------------------------------------\n"
     ]
    },
    {
     "name": "stderr",
     "output_type": "stream",
     "text": [
      " 42%|████▏     | 42338/100000 [00:22<00:30, 1884.19it/s]"
     ]
    },
    {
     "name": "stdout",
     "output_type": "stream",
     "text": [
      "scores: \t 2378 \t 1622\n",
      "wins: \t\t 461  ( 46.1 %)\t 227  ( 22.7 %)\n",
      "draws:  312  ( 31.2 %)\n",
      "-----------------------------------------------\n"
     ]
    },
    {
     "name": "stderr",
     "output_type": "stream",
     "text": [
      " 43%|████▎     | 43329/100000 [00:23<00:29, 1896.22it/s]"
     ]
    },
    {
     "name": "stdout",
     "output_type": "stream",
     "text": [
      "scores: \t 2427 \t 1573\n",
      "wins: \t\t 481  ( 48.1 %)\t 208  ( 20.8 %)\n",
      "draws:  311  ( 31.1 %)\n",
      "-----------------------------------------------\n"
     ]
    },
    {
     "name": "stderr",
     "output_type": "stream",
     "text": [
      " 44%|████▍     | 44283/100000 [00:23<00:29, 1876.51it/s]"
     ]
    },
    {
     "name": "stdout",
     "output_type": "stream",
     "text": [
      "scores: \t 2411 \t 1589\n",
      "wins: \t\t 503  ( 50.3 %)\t 222  ( 22.2 %)\n",
      "draws:  275  ( 27.5 %)\n",
      "-----------------------------------------------\n"
     ]
    },
    {
     "name": "stderr",
     "output_type": "stream",
     "text": [
      " 45%|████▌     | 45259/100000 [00:24<00:29, 1882.37it/s]"
     ]
    },
    {
     "name": "stdout",
     "output_type": "stream",
     "text": [
      "scores: \t 2473 \t 1527\n",
      "wins: \t\t 525  ( 52.5 %)\t 205  ( 20.5 %)\n",
      "draws:  270  ( 27.0 %)\n",
      "-----------------------------------------------\n"
     ]
    },
    {
     "name": "stderr",
     "output_type": "stream",
     "text": [
      " 46%|████▌     | 46224/100000 [00:24<00:28, 1867.78it/s]"
     ]
    },
    {
     "name": "stdout",
     "output_type": "stream",
     "text": [
      "scores: \t 2386 \t 1614\n",
      "wins: \t\t 460  ( 46.0 %)\t 233  ( 23.3 %)\n",
      "draws:  307  ( 30.7 %)\n",
      "-----------------------------------------------\n"
     ]
    },
    {
     "name": "stderr",
     "output_type": "stream",
     "text": [
      " 47%|████▋     | 47192/100000 [00:25<00:28, 1832.23it/s]"
     ]
    },
    {
     "name": "stdout",
     "output_type": "stream",
     "text": [
      "scores: \t 2403 \t 1597\n",
      "wins: \t\t 482  ( 48.2 %)\t 219  ( 21.9 %)\n",
      "draws:  299  ( 29.9 %)\n",
      "-----------------------------------------------\n"
     ]
    },
    {
     "name": "stderr",
     "output_type": "stream",
     "text": [
      " 48%|████▊     | 48340/100000 [00:26<00:28, 1802.62it/s]"
     ]
    },
    {
     "name": "stdout",
     "output_type": "stream",
     "text": [
      "scores: \t 2464 \t 1536\n",
      "wins: \t\t 493  ( 49.3 %)\t 200  ( 20.0 %)\n",
      "draws:  307  ( 30.7 %)\n",
      "-----------------------------------------------\n"
     ]
    },
    {
     "name": "stderr",
     "output_type": "stream",
     "text": [
      " 49%|████▉     | 49303/100000 [00:26<00:27, 1868.00it/s]"
     ]
    },
    {
     "name": "stdout",
     "output_type": "stream",
     "text": [
      "scores: \t 2431 \t 1569\n",
      "wins: \t\t 505  ( 50.5 %)\t 220  ( 22.0 %)\n",
      "draws:  275  ( 27.5 %)\n",
      "-----------------------------------------------\n"
     ]
    },
    {
     "name": "stderr",
     "output_type": "stream",
     "text": [
      " 50%|█████     | 50293/100000 [00:27<00:25, 1920.45it/s]"
     ]
    },
    {
     "name": "stdout",
     "output_type": "stream",
     "text": [
      "scores: \t 2412 \t 1588\n",
      "wins: \t\t 472  ( 47.2 %)\t 209  ( 20.9 %)\n",
      "draws:  319  ( 31.9 %)\n",
      "-----------------------------------------------\n"
     ]
    },
    {
     "name": "stderr",
     "output_type": "stream",
     "text": [
      " 51%|█████▏    | 51260/100000 [00:27<00:26, 1870.73it/s]"
     ]
    },
    {
     "name": "stdout",
     "output_type": "stream",
     "text": [
      "scores: \t 2454 \t 1546\n",
      "wins: \t\t 511  ( 51.1 %)\t 208  ( 20.8 %)\n",
      "draws:  281  ( 28.1 %)\n",
      "-----------------------------------------------\n"
     ]
    },
    {
     "name": "stderr",
     "output_type": "stream",
     "text": [
      " 52%|█████▏    | 52236/100000 [00:28<00:25, 1870.86it/s]"
     ]
    },
    {
     "name": "stdout",
     "output_type": "stream",
     "text": [
      "scores: \t 2402 \t 1598\n",
      "wins: \t\t 489  ( 48.9 %)\t 229  ( 22.9 %)\n",
      "draws:  282  ( 28.2 %)\n",
      "-----------------------------------------------\n"
     ]
    },
    {
     "name": "stderr",
     "output_type": "stream",
     "text": [
      " 53%|█████▎    | 53187/100000 [00:28<00:25, 1812.60it/s]"
     ]
    },
    {
     "name": "stdout",
     "output_type": "stream",
     "text": [
      "scores: \t 2374 \t 1626\n",
      "wins: \t\t 468  ( 46.8 %)\t 227  ( 22.7 %)\n",
      "draws:  305  ( 30.5 %)\n",
      "-----------------------------------------------\n"
     ]
    },
    {
     "name": "stderr",
     "output_type": "stream",
     "text": [
      " 54%|█████▍    | 54350/100000 [00:29<00:24, 1846.20it/s]"
     ]
    },
    {
     "name": "stdout",
     "output_type": "stream",
     "text": [
      "scores: \t 2401 \t 1599\n",
      "wins: \t\t 472  ( 47.2 %)\t 218  ( 21.8 %)\n",
      "draws:  310  ( 31.0 %)\n",
      "-----------------------------------------------\n"
     ]
    },
    {
     "name": "stderr",
     "output_type": "stream",
     "text": [
      " 55%|█████▌    | 55279/100000 [00:29<00:25, 1749.56it/s]"
     ]
    },
    {
     "name": "stdout",
     "output_type": "stream",
     "text": [
      "scores: \t 2431 \t 1569\n",
      "wins: \t\t 511  ( 51.1 %)\t 224  ( 22.4 %)\n",
      "draws:  265  ( 26.5 %)\n",
      "-----------------------------------------------\n"
     ]
    },
    {
     "name": "stderr",
     "output_type": "stream",
     "text": [
      " 56%|█████▌    | 56234/100000 [00:30<00:23, 1847.12it/s]"
     ]
    },
    {
     "name": "stdout",
     "output_type": "stream",
     "text": [
      "scores: \t 2459 \t 1541\n",
      "wins: \t\t 519  ( 51.9 %)\t 210  ( 21.0 %)\n",
      "draws:  271  ( 27.1 %)\n",
      "-----------------------------------------------\n"
     ]
    },
    {
     "name": "stderr",
     "output_type": "stream",
     "text": [
      " 57%|█████▋    | 57196/100000 [00:30<00:23, 1789.25it/s]"
     ]
    },
    {
     "name": "stdout",
     "output_type": "stream",
     "text": [
      "scores: \t 2411 \t 1589\n",
      "wins: \t\t 496  ( 49.6 %)\t 221  ( 22.1 %)\n",
      "draws:  283  ( 28.3 %)\n",
      "-----------------------------------------------\n"
     ]
    },
    {
     "name": "stderr",
     "output_type": "stream",
     "text": [
      " 58%|█████▊    | 58354/100000 [00:31<00:22, 1852.89it/s]"
     ]
    },
    {
     "name": "stdout",
     "output_type": "stream",
     "text": [
      "scores: \t 2476 \t 1524\n",
      "wins: \t\t 501  ( 50.1 %)\t 201  ( 20.1 %)\n",
      "draws:  298  ( 29.8 %)\n",
      "-----------------------------------------------\n"
     ]
    },
    {
     "name": "stderr",
     "output_type": "stream",
     "text": [
      " 59%|█████▉    | 59291/100000 [00:32<00:22, 1810.08it/s]"
     ]
    },
    {
     "name": "stdout",
     "output_type": "stream",
     "text": [
      "scores: \t 2434 \t 1566\n",
      "wins: \t\t 478  ( 47.8 %)\t 191  ( 19.1 %)\n",
      "draws:  331  ( 33.1 %)\n",
      "-----------------------------------------------\n"
     ]
    },
    {
     "name": "stderr",
     "output_type": "stream",
     "text": [
      " 60%|██████    | 60215/100000 [00:32<00:22, 1795.60it/s]"
     ]
    },
    {
     "name": "stdout",
     "output_type": "stream",
     "text": [
      "scores: \t 2410 \t 1590\n",
      "wins: \t\t 484  ( 48.4 %)\t 195  ( 19.5 %)\n",
      "draws:  321  ( 32.1 %)\n",
      "-----------------------------------------------\n"
     ]
    },
    {
     "name": "stderr",
     "output_type": "stream",
     "text": [
      " 61%|██████▏   | 61349/100000 [00:33<00:20, 1846.34it/s]"
     ]
    },
    {
     "name": "stdout",
     "output_type": "stream",
     "text": [
      "scores: \t 2346 \t 1654\n",
      "wins: \t\t 461  ( 46.1 %)\t 224  ( 22.4 %)\n",
      "draws:  315  ( 31.5 %)\n",
      "-----------------------------------------------\n"
     ]
    },
    {
     "name": "stderr",
     "output_type": "stream",
     "text": [
      " 62%|██████▏   | 62293/100000 [00:33<00:21, 1748.01it/s]"
     ]
    },
    {
     "name": "stdout",
     "output_type": "stream",
     "text": [
      "scores: \t 2473 \t 1527\n",
      "wins: \t\t 502  ( 50.2 %)\t 187  ( 18.7 %)\n",
      "draws:  311  ( 31.1 %)\n",
      "-----------------------------------------------\n"
     ]
    },
    {
     "name": "stderr",
     "output_type": "stream",
     "text": [
      " 63%|██████▎   | 63251/100000 [00:34<00:20, 1834.22it/s]"
     ]
    },
    {
     "name": "stdout",
     "output_type": "stream",
     "text": [
      "scores: \t 2397 \t 1603\n",
      "wins: \t\t 474  ( 47.4 %)\t 206  ( 20.6 %)\n",
      "draws:  320  ( 32.0 %)\n",
      "-----------------------------------------------\n"
     ]
    },
    {
     "name": "stderr",
     "output_type": "stream",
     "text": [
      " 64%|██████▍   | 64212/100000 [00:34<00:19, 1851.09it/s]"
     ]
    },
    {
     "name": "stdout",
     "output_type": "stream",
     "text": [
      "scores: \t 2484 \t 1516\n",
      "wins: \t\t 521  ( 52.1 %)\t 196  ( 19.6 %)\n",
      "draws:  283  ( 28.3 %)\n",
      "-----------------------------------------------\n"
     ]
    },
    {
     "name": "stderr",
     "output_type": "stream",
     "text": [
      " 65%|██████▌   | 65371/100000 [00:35<00:18, 1890.34it/s]"
     ]
    },
    {
     "name": "stdout",
     "output_type": "stream",
     "text": [
      "scores: \t 2488 \t 1512\n",
      "wins: \t\t 528  ( 52.8 %)\t 220  ( 22.0 %)\n",
      "draws:  252  ( 25.2 %)\n",
      "-----------------------------------------------\n"
     ]
    },
    {
     "name": "stderr",
     "output_type": "stream",
     "text": [
      " 66%|██████▌   | 66158/100000 [00:35<00:18, 1856.45it/s]"
     ]
    },
    {
     "name": "stdout",
     "output_type": "stream",
     "text": [
      "scores: \t 2417 \t 1583\n",
      "wins: \t\t 502  ( 50.2 %)\t 212  ( 21.2 %)\n",
      "draws:  286  ( 28.6 %)\n",
      "-----------------------------------------------\n"
     ]
    },
    {
     "name": "stderr",
     "output_type": "stream",
     "text": [
      " 67%|██████▋   | 67321/100000 [00:36<00:17, 1886.04it/s]"
     ]
    },
    {
     "name": "stdout",
     "output_type": "stream",
     "text": [
      "scores: \t 2440 \t 1560\n",
      "wins: \t\t 511  ( 51.1 %)\t 218  ( 21.8 %)\n",
      "draws:  271  ( 27.1 %)\n",
      "-----------------------------------------------\n"
     ]
    },
    {
     "name": "stderr",
     "output_type": "stream",
     "text": [
      " 68%|██████▊   | 68277/100000 [00:36<00:18, 1731.77it/s]"
     ]
    },
    {
     "name": "stdout",
     "output_type": "stream",
     "text": [
      "scores: \t 2465 \t 1535\n",
      "wins: \t\t 516  ( 51.6 %)\t 196  ( 19.6 %)\n",
      "draws:  288  ( 28.8 %)\n",
      "-----------------------------------------------\n"
     ]
    },
    {
     "name": "stderr",
     "output_type": "stream",
     "text": [
      " 69%|██████▉   | 69240/100000 [00:37<00:16, 1841.76it/s]"
     ]
    },
    {
     "name": "stdout",
     "output_type": "stream",
     "text": [
      "scores: \t 2416 \t 1584\n",
      "wins: \t\t 493  ( 49.3 %)\t 215  ( 21.5 %)\n",
      "draws:  292  ( 29.2 %)\n",
      "-----------------------------------------------\n"
     ]
    },
    {
     "name": "stderr",
     "output_type": "stream",
     "text": [
      " 70%|███████   | 70200/100000 [00:37<00:16, 1849.04it/s]"
     ]
    },
    {
     "name": "stdout",
     "output_type": "stream",
     "text": [
      "scores: \t 2410 \t 1590\n",
      "wins: \t\t 499  ( 49.9 %)\t 229  ( 22.9 %)\n",
      "draws:  272  ( 27.2 %)\n",
      "-----------------------------------------------\n"
     ]
    },
    {
     "name": "stderr",
     "output_type": "stream",
     "text": [
      " 71%|███████▏  | 71359/100000 [00:38<00:15, 1870.51it/s]"
     ]
    },
    {
     "name": "stdout",
     "output_type": "stream",
     "text": [
      "scores: \t 2432 \t 1568\n",
      "wins: \t\t 501  ( 50.1 %)\t 222  ( 22.2 %)\n",
      "draws:  277  ( 27.7 %)\n",
      "-----------------------------------------------\n"
     ]
    },
    {
     "name": "stderr",
     "output_type": "stream",
     "text": [
      " 72%|███████▏  | 72316/100000 [00:39<00:15, 1829.23it/s]"
     ]
    },
    {
     "name": "stdout",
     "output_type": "stream",
     "text": [
      "scores: \t 2415 \t 1585\n",
      "wins: \t\t 491  ( 49.1 %)\t 221  ( 22.1 %)\n",
      "draws:  288  ( 28.8 %)\n",
      "-----------------------------------------------\n"
     ]
    },
    {
     "name": "stderr",
     "output_type": "stream",
     "text": [
      " 73%|███████▎  | 73267/100000 [00:39<00:14, 1843.67it/s]"
     ]
    },
    {
     "name": "stdout",
     "output_type": "stream",
     "text": [
      "scores: \t 2451 \t 1549\n",
      "wins: \t\t 505  ( 50.5 %)\t 213  ( 21.3 %)\n",
      "draws:  282  ( 28.2 %)\n",
      "-----------------------------------------------\n"
     ]
    },
    {
     "name": "stderr",
     "output_type": "stream",
     "text": [
      " 74%|███████▍  | 74208/100000 [00:40<00:14, 1795.74it/s]"
     ]
    },
    {
     "name": "stdout",
     "output_type": "stream",
     "text": [
      "scores: \t 2499 \t 1501\n",
      "wins: \t\t 527  ( 52.7 %)\t 207  ( 20.7 %)\n",
      "draws:  266  ( 26.6 %)\n",
      "-----------------------------------------------\n"
     ]
    },
    {
     "name": "stderr",
     "output_type": "stream",
     "text": [
      " 75%|███████▌  | 75190/100000 [00:40<00:13, 1863.90it/s]"
     ]
    },
    {
     "name": "stdout",
     "output_type": "stream",
     "text": [
      "scores: \t 2447 \t 1553\n",
      "wins: \t\t 495  ( 49.5 %)\t 191  ( 19.1 %)\n",
      "draws:  314  ( 31.4 %)\n",
      "-----------------------------------------------\n"
     ]
    },
    {
     "name": "stderr",
     "output_type": "stream",
     "text": [
      " 76%|███████▋  | 76336/100000 [00:41<00:13, 1750.31it/s]"
     ]
    },
    {
     "name": "stdout",
     "output_type": "stream",
     "text": [
      "scores: \t 2422 \t 1578\n",
      "wins: \t\t 489  ( 48.9 %)\t 211  ( 21.1 %)\n",
      "draws:  300  ( 30.0 %)\n",
      "-----------------------------------------------\n"
     ]
    },
    {
     "name": "stderr",
     "output_type": "stream",
     "text": [
      " 77%|███████▋  | 77292/100000 [00:41<00:12, 1840.91it/s]"
     ]
    },
    {
     "name": "stdout",
     "output_type": "stream",
     "text": [
      "scores: \t 2473 \t 1527\n",
      "wins: \t\t 508  ( 50.8 %)\t 190  ( 19.0 %)\n",
      "draws:  302  ( 30.2 %)\n",
      "-----------------------------------------------\n"
     ]
    },
    {
     "name": "stderr",
     "output_type": "stream",
     "text": [
      " 78%|███████▊  | 78261/100000 [00:42<00:12, 1711.40it/s]"
     ]
    },
    {
     "name": "stdout",
     "output_type": "stream",
     "text": [
      "scores: \t 2429 \t 1571\n",
      "wins: \t\t 481  ( 48.1 %)\t 216  ( 21.6 %)\n",
      "draws:  303  ( 30.3 %)\n",
      "-----------------------------------------------\n"
     ]
    },
    {
     "name": "stderr",
     "output_type": "stream",
     "text": [
      " 79%|███████▉  | 79215/100000 [00:42<00:11, 1833.84it/s]"
     ]
    },
    {
     "name": "stdout",
     "output_type": "stream",
     "text": [
      "scores: \t 2420 \t 1580\n",
      "wins: \t\t 474  ( 47.4 %)\t 206  ( 20.6 %)\n",
      "draws:  320  ( 32.0 %)\n",
      "-----------------------------------------------\n"
     ]
    },
    {
     "name": "stderr",
     "output_type": "stream",
     "text": [
      " 80%|████████  | 80173/100000 [00:43<00:11, 1754.23it/s]"
     ]
    },
    {
     "name": "stdout",
     "output_type": "stream",
     "text": [
      "scores: \t 2445 \t 1555\n",
      "wins: \t\t 496  ( 49.6 %)\t 220  ( 22.0 %)\n",
      "draws:  284  ( 28.4 %)\n",
      "-----------------------------------------------\n"
     ]
    },
    {
     "name": "stderr",
     "output_type": "stream",
     "text": [
      " 81%|████████▏ | 81265/100000 [00:44<00:10, 1758.76it/s]"
     ]
    },
    {
     "name": "stdout",
     "output_type": "stream",
     "text": [
      "scores: \t 2503 \t 1497\n",
      "wins: \t\t 518  ( 51.8 %)\t 196  ( 19.6 %)\n",
      "draws:  286  ( 28.6 %)\n",
      "-----------------------------------------------\n"
     ]
    },
    {
     "name": "stderr",
     "output_type": "stream",
     "text": [
      " 82%|████████▏ | 82199/100000 [00:44<00:09, 1791.60it/s]"
     ]
    },
    {
     "name": "stdout",
     "output_type": "stream",
     "text": [
      "scores: \t 2443 \t 1557\n",
      "wins: \t\t 497  ( 49.7 %)\t 203  ( 20.3 %)\n",
      "draws:  300  ( 30.0 %)\n",
      "-----------------------------------------------\n"
     ]
    },
    {
     "name": "stderr",
     "output_type": "stream",
     "text": [
      " 83%|████████▎ | 83362/100000 [00:45<00:08, 1862.69it/s]"
     ]
    },
    {
     "name": "stdout",
     "output_type": "stream",
     "text": [
      "scores: \t 2475 \t 1525\n",
      "wins: \t\t 504  ( 50.4 %)\t 210  ( 21.0 %)\n",
      "draws:  286  ( 28.6 %)\n",
      "-----------------------------------------------\n"
     ]
    },
    {
     "name": "stderr",
     "output_type": "stream",
     "text": [
      " 84%|████████▍ | 84337/100000 [00:45<00:08, 1884.89it/s]"
     ]
    },
    {
     "name": "stdout",
     "output_type": "stream",
     "text": [
      "scores: \t 2443 \t 1557\n",
      "wins: \t\t 492  ( 49.2 %)\t 203  ( 20.3 %)\n",
      "draws:  305  ( 30.5 %)\n",
      "-----------------------------------------------\n"
     ]
    },
    {
     "name": "stderr",
     "output_type": "stream",
     "text": [
      " 85%|████████▌ | 85274/100000 [00:46<00:08, 1779.38it/s]"
     ]
    },
    {
     "name": "stdout",
     "output_type": "stream",
     "text": [
      "scores: \t 2418 \t 1582\n",
      "wins: \t\t 496  ( 49.6 %)\t 200  ( 20.0 %)\n",
      "draws:  304  ( 30.4 %)\n",
      "-----------------------------------------------\n"
     ]
    },
    {
     "name": "stderr",
     "output_type": "stream",
     "text": [
      " 86%|████████▌ | 86230/100000 [00:46<00:07, 1833.27it/s]"
     ]
    },
    {
     "name": "stdout",
     "output_type": "stream",
     "text": [
      "scores: \t 2451 \t 1549\n",
      "wins: \t\t 485  ( 48.5 %)\t 211  ( 21.1 %)\n",
      "draws:  304  ( 30.4 %)\n",
      "-----------------------------------------------\n"
     ]
    },
    {
     "name": "stderr",
     "output_type": "stream",
     "text": [
      " 87%|████████▋ | 87185/100000 [00:47<00:07, 1814.18it/s]"
     ]
    },
    {
     "name": "stdout",
     "output_type": "stream",
     "text": [
      "scores: \t 2475 \t 1525\n",
      "wins: \t\t 517  ( 51.7 %)\t 222  ( 22.2 %)\n",
      "draws:  261  ( 26.1 %)\n",
      "-----------------------------------------------\n"
     ]
    },
    {
     "name": "stderr",
     "output_type": "stream",
     "text": [
      " 88%|████████▊ | 88336/100000 [00:47<00:06, 1847.51it/s]"
     ]
    },
    {
     "name": "stdout",
     "output_type": "stream",
     "text": [
      "scores: \t 2446 \t 1554\n",
      "wins: \t\t 501  ( 50.1 %)\t 217  ( 21.7 %)\n",
      "draws:  282  ( 28.2 %)\n",
      "-----------------------------------------------\n"
     ]
    },
    {
     "name": "stderr",
     "output_type": "stream",
     "text": [
      " 89%|████████▉ | 89305/100000 [00:48<00:05, 1891.39it/s]"
     ]
    },
    {
     "name": "stdout",
     "output_type": "stream",
     "text": [
      "scores: \t 2481 \t 1519\n",
      "wins: \t\t 507  ( 50.7 %)\t 212  ( 21.2 %)\n",
      "draws:  281  ( 28.1 %)\n",
      "-----------------------------------------------\n"
     ]
    },
    {
     "name": "stderr",
     "output_type": "stream",
     "text": [
      " 90%|█████████ | 90254/100000 [00:48<00:05, 1790.37it/s]"
     ]
    },
    {
     "name": "stdout",
     "output_type": "stream",
     "text": [
      "scores: \t 2398 \t 1602\n",
      "wins: \t\t 472  ( 47.2 %)\t 213  ( 21.3 %)\n",
      "draws:  315  ( 31.5 %)\n",
      "-----------------------------------------------\n"
     ]
    },
    {
     "name": "stderr",
     "output_type": "stream",
     "text": [
      " 91%|█████████ | 91201/100000 [00:49<00:04, 1817.28it/s]"
     ]
    },
    {
     "name": "stdout",
     "output_type": "stream",
     "text": [
      "scores: \t 2472 \t 1528\n",
      "wins: \t\t 493  ( 49.3 %)\t 195  ( 19.5 %)\n",
      "draws:  312  ( 31.2 %)\n",
      "-----------------------------------------------\n"
     ]
    },
    {
     "name": "stderr",
     "output_type": "stream",
     "text": [
      " 92%|█████████▏| 92359/100000 [00:50<00:04, 1874.56it/s]"
     ]
    },
    {
     "name": "stdout",
     "output_type": "stream",
     "text": [
      "scores: \t 2413 \t 1587\n",
      "wins: \t\t 504  ( 50.4 %)\t 225  ( 22.5 %)\n",
      "draws:  271  ( 27.1 %)\n",
      "-----------------------------------------------\n"
     ]
    },
    {
     "name": "stderr",
     "output_type": "stream",
     "text": [
      " 93%|█████████▎| 93302/100000 [00:50<00:03, 1830.54it/s]"
     ]
    },
    {
     "name": "stdout",
     "output_type": "stream",
     "text": [
      "scores: \t 2473 \t 1527\n",
      "wins: \t\t 505  ( 50.5 %)\t 206  ( 20.6 %)\n",
      "draws:  289  ( 28.9 %)\n",
      "-----------------------------------------------\n"
     ]
    },
    {
     "name": "stderr",
     "output_type": "stream",
     "text": [
      " 94%|█████████▍| 94253/100000 [00:51<00:03, 1836.98it/s]"
     ]
    },
    {
     "name": "stdout",
     "output_type": "stream",
     "text": [
      "scores: \t 2490 \t 1510\n",
      "wins: \t\t 508  ( 50.8 %)\t 198  ( 19.8 %)\n",
      "draws:  294  ( 29.4 %)\n",
      "-----------------------------------------------\n"
     ]
    },
    {
     "name": "stderr",
     "output_type": "stream",
     "text": [
      " 95%|█████████▌| 95199/100000 [00:51<00:02, 1852.30it/s]"
     ]
    },
    {
     "name": "stdout",
     "output_type": "stream",
     "text": [
      "scores: \t 2476 \t 1524\n",
      "wins: \t\t 521  ( 52.1 %)\t 192  ( 19.2 %)\n",
      "draws:  287  ( 28.7 %)\n",
      "-----------------------------------------------\n"
     ]
    },
    {
     "name": "stderr",
     "output_type": "stream",
     "text": [
      " 96%|█████████▌| 96173/100000 [00:52<00:02, 1861.63it/s]"
     ]
    },
    {
     "name": "stdout",
     "output_type": "stream",
     "text": [
      "scores: \t 2483 \t 1517\n",
      "wins: \t\t 517  ( 51.7 %)\t 227  ( 22.7 %)\n",
      "draws:  256  ( 25.6 %)\n",
      "-----------------------------------------------\n"
     ]
    },
    {
     "name": "stderr",
     "output_type": "stream",
     "text": [
      " 97%|█████████▋| 97320/100000 [00:52<00:01, 1853.78it/s]"
     ]
    },
    {
     "name": "stdout",
     "output_type": "stream",
     "text": [
      "scores: \t 2450 \t 1550\n",
      "wins: \t\t 489  ( 48.9 %)\t 215  ( 21.5 %)\n",
      "draws:  296  ( 29.6 %)\n",
      "-----------------------------------------------\n"
     ]
    },
    {
     "name": "stderr",
     "output_type": "stream",
     "text": [
      " 98%|█████████▊| 98285/100000 [00:53<00:00, 1849.65it/s]"
     ]
    },
    {
     "name": "stdout",
     "output_type": "stream",
     "text": [
      "scores: \t 2426 \t 1574\n",
      "wins: \t\t 472  ( 47.2 %)\t 211  ( 21.1 %)\n",
      "draws:  317  ( 31.7 %)\n",
      "-----------------------------------------------\n"
     ]
    },
    {
     "name": "stderr",
     "output_type": "stream",
     "text": [
      " 99%|█████████▉| 99210/100000 [00:53<00:00, 1778.80it/s]"
     ]
    },
    {
     "name": "stdout",
     "output_type": "stream",
     "text": [
      "scores: \t 2430 \t 1570\n",
      "wins: \t\t 492  ( 49.2 %)\t 209  ( 20.9 %)\n",
      "draws:  299  ( 29.9 %)\n",
      "-----------------------------------------------\n"
     ]
    },
    {
     "name": "stderr",
     "output_type": "stream",
     "text": [
      "100%|██████████| 100000/100000 [00:54<00:00, 1843.80it/s]\n",
      " 23%|██▎       | 229/1000 [00:00<00:00, 2284.46it/s]"
     ]
    },
    {
     "name": "stdout",
     "output_type": "stream",
     "text": [
      "scores: \t 2435 \t 1565\n",
      "wins: \t\t 497  ( 49.7 %)\t 215  ( 21.5 %)\n",
      "draws:  288  ( 28.8 %)\n",
      "-----------------------------------------------\n",
      "Evaluating\n"
     ]
    },
    {
     "name": "stderr",
     "output_type": "stream",
     "text": [
      "100%|██████████| 1000/1000 [00:00<00:00, 2293.15it/s]"
     ]
    },
    {
     "name": "stdout",
     "output_type": "stream",
     "text": [
      "scores: \t 2518 \t 1482\n",
      "wins:   \t 539  ( 53.9 %)\t 184  ( 18.4 %)\n",
      "draws:  277  ( 27.7 %)\n",
      "avg play time:\t 2.3978689123604633e-05 \t 1.2409501837833243e-05\n",
      "-----------------------------------------------\n",
      "total time: 0.43961358070373535 per game: 0.00043961358070373536\n"
     ]
    },
    {
     "name": "stderr",
     "output_type": "stream",
     "text": [
      "\n"
     ]
    }
   ],
   "source": [
    "if __name__ == '__main__':\n",
    "    \"\"\"Modify the board size here\"\"\"\n",
    "    boardSize = (2,2)\n",
    "    g = DotsnBoxes(boardSize, QPlayer, HumanPlayer)\n",
    "    g.rand_start = True\n",
    "    g.start_player = 1\n",
    "    \n",
    "    for numGames in [100,1000,10000,100000]:\n",
    "        print(\"Training for {} games\".format(numGames))\n",
    "        g.train(numGames)\n",
    "   \n",
    "    print(\"Evaluating\")\n",
    "    g.eval(1000)\n",
    "    "
   ]
  },
  {
   "cell_type": "code",
   "execution_count": null,
   "metadata": {},
   "outputs": [],
   "source": []
  }
 ],
 "metadata": {
  "kernelspec": {
   "display_name": "Python 3",
   "language": "python",
   "name": "python3"
  },
  "language_info": {
   "codemirror_mode": {
    "name": "ipython",
    "version": 3
   },
   "file_extension": ".py",
   "mimetype": "text/x-python",
   "name": "python",
   "nbconvert_exporter": "python",
   "pygments_lexer": "ipython3",
   "version": "3.7.1"
  }
 },
 "nbformat": 4,
 "nbformat_minor": 2
}
