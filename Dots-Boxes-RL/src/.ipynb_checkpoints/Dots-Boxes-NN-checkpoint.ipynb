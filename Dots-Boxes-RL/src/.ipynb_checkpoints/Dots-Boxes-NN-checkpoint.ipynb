{
 "cells": [
  {
   "cell_type": "markdown",
   "metadata": {},
   "source": [
    "# Dots & Boxes"
   ]
  },
  {
   "cell_type": "code",
   "execution_count": 1,
   "metadata": {},
   "outputs": [],
   "source": [
    "import numpy as np\n",
    "import torch\n",
    "import neuralnetwork as nn\n",
    "\n",
    "import random\n",
    "from copy import copy\n",
    "from tqdm import tqdm\n",
    "\n",
    "import matplotlib.pyplot as plt\n",
    "%matplotlib inline"
   ]
  },
  {
   "cell_type": "code",
   "execution_count": 2,
   "metadata": {},
   "outputs": [],
   "source": [
    "def print_game(state):\n",
    "    for i in range(4):\n",
    "        for j in range(4):\n",
    "            print('\\u2022', end = '')\n",
    "            print() if j == 3 else print('---', end = '') if state[((3*i)+j)] == 1 else print('   ', end = '')\n",
    "        if i != 3:\n",
    "            if(state[((4*i)+12)] == 1):\n",
    "                print('|') if(state[((4*i)+13)] == 0 and state[((4*i)+14)] == 0 and state[((4*i)+15)] == 0) else print('|', end = '')\n",
    "            if(state[((4*i)+13)] == 1):\n",
    "                if(state[((4*i)+14)] == 0 and state[((4*i)+15)] == 0):\n",
    "                    print('   |') if(state[((4*i)+12)] == 1) else print('    |')\n",
    "                else:\n",
    "                    print('   |', end = '') if(state[((4*i)+12)] == 1) else print('    |', end = '')\n",
    "            if(state[((4*i)+14)] == 1):\n",
    "                if(state[((4*i)+15)] == 0):\n",
    "                    print('   |') if(state[((4*i)+13)] == 1) else print('       |') if(state[((4*i)+12)] == 1) else print('        |')\n",
    "                else:\n",
    "                    print('   |', end = '') if(state[((4*i)+13)] == 1) else print('       |', end = '') if(state[((4*i)+12)] == 1) else print('        |', end = '')\n",
    "            if(state[((4*i)+15)] == 1):\n",
    "                print('   |') if(state[((4*i)+14)] == 1) else print('       |') if(state[((4*i)+13)] == 1) else print('           |') if(state[((4*i)+12)] == 1) else print('            |')\n",
    "\n",
    "            if(state[((4*i)+12)] == 0 and state[((4*i)+13)] == 0 and state[((4*i)+14)] == 0 and state[((4*i)+15)] == 0):\n",
    "                print()"
   ]
  },
  {
   "cell_type": "code",
   "execution_count": 3,
   "metadata": {},
   "outputs": [],
   "source": [
    "def valid_moves(state):\n",
    "    return list(np.where(np.array(state) == 0)[0])"
   ]
  },
  {
   "cell_type": "code",
   "execution_count": 4,
   "metadata": {},
   "outputs": [],
   "source": [
    "def make_move(state, move):\n",
    "    newState = state.copy()\n",
    "    newState[move] = 1\n",
    "    return newState"
   ]
  },
  {
   "cell_type": "code",
   "execution_count": 5,
   "metadata": {},
   "outputs": [],
   "source": [
    "def box_created(state, boxes):\n",
    "    created = 0\n",
    "    k = 0\n",
    "    for i in range(9):\n",
    "        if i != 0 and (i%3) == 0:\n",
    "            k += 1\n",
    "        if state[i] == 1 and state[(i+3)] == 1 and state[(i+12+k)] == 1 and state[(i+13+k)] == 1:\n",
    "            if boxes[i] == 0:\n",
    "                boxes[i] = 1\n",
    "                created += 1\n",
    "    return created, boxes"
   ]
  },
  {
   "cell_type": "code",
   "execution_count": 6,
   "metadata": {},
   "outputs": [],
   "source": [
    "def print_prediction(state):\n",
    "    for i in range(4):\n",
    "        for j in range(4):\n",
    "            print('    \\u2022    ', end = '')\n",
    "            print() if j == 3 else print(state[(3*i)+j], end = '')\n",
    "        if i != 3:\n",
    "            print(state[(4*i)+12], '    ', state[(4*i)+13], '    ', state[(4*i)+14], '    ', state[(4*i)+15])"
   ]
  },
  {
   "cell_type": "code",
   "execution_count": 7,
   "metadata": {},
   "outputs": [],
   "source": [
    "def plot_outcomes(outcomes, max_games, n_games):\n",
    "    if n_games == 0:\n",
    "        return\n",
    "    n_bins = 100\n",
    "    n_per = int(max_games/n_bins)\n",
    "    outcome_rows = outcomes.reshape(-1, n_per)\n",
    "    outcome_rows = outcome_rows[:int(n_games/float(n_per))+1, :]\n",
    "    avgs = np.mean(outcome_rows, axis = 1)\n",
    "    xs = np.linspace(n_per, n_games, len(avgs))\n",
    "    plt.figure(figsize = (15, 10))\n",
    "    plt.plot(xs, np.sum(outcome_rows == 1, axis = 1), 'g-', label='P1 wins')\n",
    "    plt.plot(xs, np.sum(outcome_rows == -1, axis = 1), 'r-', label='P2 wins')\n",
    "    plt.plot(xs, np.sum(outcome_rows == 0, axis = 1), 'b-', label='Draws')\n",
    "    plt.legend(loc = \"center\")\n",
    "    plt.ylabel('Number of Games\\nin Bins of {:d}'.format(n_per))"
   ]
  },
  {
   "cell_type": "markdown",
   "metadata": {},
   "source": [
    "### Testing"
   ]
  },
  {
   "cell_type": "code",
   "execution_count": 8,
   "metadata": {},
   "outputs": [],
   "source": [
    "start_state = [0]*24"
   ]
  },
  {
   "cell_type": "code",
   "execution_count": 9,
   "metadata": {
    "scrolled": true
   },
   "outputs": [
    {
     "name": "stdout",
     "output_type": "stream",
     "text": [
      "•   •   •   •\n",
      "\n",
      "•   •   •   •\n",
      "\n",
      "•   •   •   •\n",
      "\n",
      "•   •   •   •\n"
     ]
    }
   ],
   "source": [
    "print_game(start_state)"
   ]
  },
  {
   "cell_type": "markdown",
   "metadata": {},
   "source": [
    "The initial state of the game is only dots and no edges."
   ]
  },
  {
   "cell_type": "code",
   "execution_count": 10,
   "metadata": {},
   "outputs": [
    {
     "data": {
      "text/plain": [
       "[0,\n",
       " 1,\n",
       " 2,\n",
       " 3,\n",
       " 4,\n",
       " 5,\n",
       " 6,\n",
       " 7,\n",
       " 8,\n",
       " 9,\n",
       " 10,\n",
       " 11,\n",
       " 12,\n",
       " 13,\n",
       " 14,\n",
       " 15,\n",
       " 16,\n",
       " 17,\n",
       " 18,\n",
       " 19,\n",
       " 20,\n",
       " 21,\n",
       " 22,\n",
       " 23]"
      ]
     },
     "execution_count": 10,
     "metadata": {},
     "output_type": "execute_result"
    }
   ],
   "source": [
    "valid_moves(start_state)"
   ]
  },
  {
   "cell_type": "markdown",
   "metadata": {},
   "source": [
    "Since there are no edges yet, all the edges are valid moves for the initial state."
   ]
  },
  {
   "cell_type": "code",
   "execution_count": 11,
   "metadata": {},
   "outputs": [
    {
     "data": {
      "text/plain": [
       "[0, 1, 0, 0, 0, 0, 0, 0, 0, 0, 0, 0, 0, 0, 0, 0, 0, 0, 0, 0, 0, 0, 0, 0]"
      ]
     },
     "execution_count": 11,
     "metadata": {},
     "output_type": "execute_result"
    }
   ],
   "source": [
    "make_move(start_state, 1)"
   ]
  },
  {
   "cell_type": "markdown",
   "metadata": {},
   "source": [
    "The function correctly modifies the state of the game."
   ]
  },
  {
   "cell_type": "code",
   "execution_count": 12,
   "metadata": {},
   "outputs": [
    {
     "name": "stdout",
     "output_type": "stream",
     "text": [
      "•   •---•   •\n",
      "\n",
      "•   •   •   •\n",
      "\n",
      "•   •   •   •\n",
      "\n",
      "•   •   •   •\n"
     ]
    }
   ],
   "source": [
    "print_game(make_move(start_state, 1))"
   ]
  },
  {
   "cell_type": "code",
   "execution_count": 13,
   "metadata": {
    "scrolled": false
   },
   "outputs": [
    {
     "name": "stdout",
     "output_type": "stream",
     "text": [
      "Random state\n",
      "•---•---•   •\n",
      "|   |\n",
      "•---•   •   •\n",
      "\n",
      "•   •   •   •\n",
      "\n",
      "•   •   •   •\n",
      "\n",
      "\n",
      "Make move at edge 4\n",
      "•---•---•   •\n",
      "|   |\n",
      "•---•---•   •\n",
      "\n",
      "•   •   •   •\n",
      "\n",
      "•   •   •   •\n",
      "\n",
      "Boxes created: 0\n",
      "\n",
      "Current boxes: [1, 0, 0, 0, 0, 0, 0, 0, 0]\n",
      "\n",
      "\n",
      "Make move at edge 14\n",
      "•---•---•   •\n",
      "|   |   |\n",
      "•---•---•   •\n",
      "\n",
      "•   •   •   •\n",
      "\n",
      "•   •   •   •\n",
      "\n",
      "Boxes created: 1\n",
      "\n",
      "Current boxes: [1, 1, 0, 0, 0, 0, 0, 0, 0]\n"
     ]
    }
   ],
   "source": [
    "print('Random state')\n",
    "random_state = make_move(make_move(make_move(make_move(make_move([0]*24, 0), 3), 12), 13), 1)\n",
    "print_game(random_state)\n",
    "print()\n",
    "print()\n",
    "\n",
    "boxes = [1] + [0]*8\n",
    "\n",
    "print('Make move at edge 4')\n",
    "boxes_created_state_1 = make_move(random_state, 4)\n",
    "print_game(boxes_created_state_1)\n",
    "created, boxes = box_created(boxes_created_state_1, boxes)\n",
    "print()\n",
    "print('Boxes created:', created)\n",
    "print()\n",
    "print('Current boxes:', boxes)\n",
    "print()\n",
    "print()\n",
    "\n",
    "print('Make move at edge 14')\n",
    "box_created_state_2 = make_move(boxes_created_state_1, 14)\n",
    "print_game(box_created_state_2)\n",
    "created, boxes = box_created(box_created_state_2, boxes)\n",
    "print()\n",
    "print('Boxes created:', created)\n",
    "print()\n",
    "print('Current boxes:', boxes)"
   ]
  },
  {
   "cell_type": "markdown",
   "metadata": {},
   "source": [
    "## Q Function"
   ]
  },
  {
   "cell_type": "code",
   "execution_count": 14,
   "metadata": {},
   "outputs": [],
   "source": [
    "cuda_available = False\n",
    "def tensor(np_array):\n",
    "    return torch.from_numpy(np_array.astype('double')).cuda() if cuda_available else torch.from_numpy(np_array.astype('double'))"
   ]
  },
  {
   "cell_type": "code",
   "execution_count": 15,
   "metadata": {},
   "outputs": [],
   "source": [
    "def epsilon_greedy(Qnet, state, epsilon, valid_moves_F, turn):\n",
    "    moves = valid_moves_F(state)\n",
    "    if np.random.uniform() < epsilon: # Random move\n",
    "        move = moves[random.sample(range(len(moves)), 1)[0]]\n",
    "        Q = Qnet.use_pytorch(tensor(np.array(start_state + [move]))) if Qnet.Xmeans is not None else 0\n",
    "    else: # Greedy move\n",
    "        Qs = []\n",
    "        for m in moves:\n",
    "            Qs.append(Qnet.use_pytorch(tensor(np.array(start_state + [m]))) if Qnet.Xmeans is not None else 0)\n",
    "        move = moves[np.argmax(Qs)] if turn else moves[np.argmin(Qs)]\n",
    "        Q = np.max(Qs) if turn else np.min(Qs)\n",
    "    return move, Q"
   ]
  },
  {
   "cell_type": "code",
   "execution_count": 16,
   "metadata": {},
   "outputs": [],
   "source": [
    "def train_Qnet(n_batches, n_reps_per_batch, network, n_iterations, learning_rate,\n",
    "               epsilon, epsilon_decay_factor, valid_moves_F, make_move_F, boxes_created_F, relu=False, use_SGD=False):\n",
    "    \n",
    "    # use CUDA cores if available, else use CPU\n",
    "    Qnet = nn.PyTorchNN(25, network, 1, relu).to(torch.device('cuda' if cuda_available else 'cpu')).double()\n",
    "    repk = -1\n",
    "    outcomes = np.zeros(n_batches*n_reps_per_batch)\n",
    "    \n",
    "    for batch in tqdm(range(n_batches)):\n",
    "        if batch > 0:\n",
    "            epsilon *= epsilon_decay_factor\n",
    "            epsilon = max(0.01, epsilon) # Minimum learning rate is 0.01\n",
    "        samples = []\n",
    "        \n",
    "        for reps in range(n_reps_per_batch):\n",
    "            repk += 1\n",
    "            \n",
    "            # Initialize game\n",
    "            state = [0]*24\n",
    "            boxes = [0]*9\n",
    "            score = [0]*2\n",
    "            done = False\n",
    "            \n",
    "            # Start game; player 1's turn initially\n",
    "            turn = True\n",
    "            move, _ = epsilon_greedy(Qnet, state, epsilon, valid_moves_F, turn)\n",
    "            \n",
    "            # Continue to play the game\n",
    "            while not done:\n",
    "                r = 0\n",
    "                state_next = make_move_F(state, move)\n",
    "                created, boxes = boxes_created_F(state_next, boxes) # Check how many boxes are created after making a move\n",
    "                \n",
    "                if created > 0: # If a box is created, update score of the player who made the move\n",
    "                    if turn:\n",
    "                        score[0] += created\n",
    "                    else:\n",
    "                        score[1] += created\n",
    "                else: # Else give turn to the other player\n",
    "                    turn = not turn\n",
    "                \n",
    "                if 0 not in state_next: # If there are no more edges remaining, the game is over\n",
    "                    done = True # Set termination flag\n",
    "                    Qnext = 0 # Determine the reinforcement\n",
    "                    r = 1 if score[0] > score[1] else -1\n",
    "                    outcomes[repk] = r\n",
    "                    #move_next = -1\n",
    "                else: # Else, determine next move and add current sample with reinforcement 0\n",
    "                    move_next, Qnext = epsilon_greedy(Qnet, state_next, epsilon, valid_moves_F, turn)\n",
    "                \n",
    "                samples.append([*state, move, r, Qnext]) # Collect turn results as a sample\n",
    "                state = state_next\n",
    "                move = move_next\n",
    "        \n",
    "        samples = np.array(samples) # Samples contains the training inputs and the targets\n",
    "        X = tensor(samples[:, :25]) # Training inputs to the neural network\n",
    "        T = tensor(samples[:, 25:26]+samples[:, 26:27]) # Target values for the neural network\n",
    "        Qnet, _ = Qnet.train_pytorch(X, T, learning_rate, n_iterations, use_SGD) # Training the neural network\n",
    "    \n",
    "    print('DONE')\n",
    "    return Qnet, outcomes, samples"
   ]
  },
  {
   "cell_type": "markdown",
   "metadata": {},
   "source": [
    "## Training"
   ]
  },
  {
   "cell_type": "code",
   "execution_count": 17,
   "metadata": {},
   "outputs": [],
   "source": [
    "n_batches = 10\n",
    "n_reps_per_batch = 1000\n",
    "n_iterations = 10\n",
    "network = [5, 5]\n",
    "learning_rate = 0.005\n",
    "epsilon = 1\n",
    "epsilon_decay_factor = 0.95"
   ]
  },
  {
   "cell_type": "code",
   "execution_count": 18,
   "metadata": {},
   "outputs": [
    {
     "name": "stderr",
     "output_type": "stream",
     "text": [
      "100%|██████████| 10/10 [01:47<00:00, 14.06s/it]"
     ]
    },
    {
     "name": "stdout",
     "output_type": "stream",
     "text": [
      "DONE\n"
     ]
    },
    {
     "name": "stderr",
     "output_type": "stream",
     "text": [
      "\n"
     ]
    }
   ],
   "source": [
    "Qnet, outcomes, samples = train_Qnet(n_batches, n_reps_per_batch, network,\n",
    "                                                                         n_iterations, learning_rate, epsilon,\n",
    "                                                                         epsilon_decay_factor, valid_moves,\n",
    "                                                                         make_move, box_created, relu=True, use_SGD=True)"
   ]
  },
  {
   "cell_type": "code",
   "execution_count": 19,
   "metadata": {
    "scrolled": false
   },
   "outputs": [
    {
     "name": "stdout",
     "output_type": "stream",
     "text": [
      "    •    [-0.19913688]    •    [-0.19905941]    •    [-0.19868521]    •    \n",
      "[-0.19494315]      [-0.19456894]      [-0.19419474]      [-0.19382053]\n",
      "    •    [-0.198311]    •    [-0.19793679]    •    [-0.19756259]    •    \n",
      "[-0.19344632]      [-0.19611553]      [-0.20214298]      [-0.20817044]\n",
      "    •    [-0.19718838]    •    [-0.19681418]    •    [-0.19643997]    •    \n",
      "[-0.2141979]      [-0.22022536]      [-0.22625281]      [-0.23228027]\n",
      "    •    [-0.19606577]    •    [-0.19569156]    •    [-0.19531735]    •    \n"
     ]
    }
   ],
   "source": [
    "start_state = [0]*24\n",
    "Q_values = [Qnet.use_pytorch(tensor(np.array(start_state + [m]))) for m in range(24)]\n",
    "print_prediction(Q_values)"
   ]
  },
  {
   "cell_type": "code",
   "execution_count": 20,
   "metadata": {
    "scrolled": false
   },
   "outputs": [
    {
     "data": {
      "image/png": "[encoded data removed]",
      "text/plain": [
       "<Figure size 1080x720 with 1 Axes>"
      ]
     },
     "metadata": {
      "needs_background": "light"
     },
     "output_type": "display_data"
    }
   ],
   "source": [
    "plot_outcomes(outcomes, 1000, 1000)"
   ]
  },
  {
   "cell_type": "markdown",
   "metadata": {},
   "source": [
    "## Testing"
   ]
  },
  {
   "cell_type": "markdown",
   "metadata": {},
   "source": [
    "Testing the predictions made by the trained models for a sample game state."
   ]
  },
  {
   "cell_type": "code",
   "execution_count": 21,
   "metadata": {},
   "outputs": [
    {
     "name": "stdout",
     "output_type": "stream",
     "text": [
      "•---•---•   •\n",
      "|   |\n",
      "•---•---•   •\n",
      "\n",
      "•   •   •   •\n",
      "\n",
      "•   •   •   •\n"
     ]
    }
   ],
   "source": [
    "state = make_move(make_move(make_move(make_move(make_move(make_move([0]*24, 0), 3), 12), 13), 1), 4)\n",
    "print_game(state)\n",
    "moves = valid_moves(state)"
   ]
  },
  {
   "cell_type": "code",
   "execution_count": 22,
   "metadata": {
    "scrolled": false
   },
   "outputs": [
    {
     "name": "stdout",
     "output_type": "stream",
     "text": [
      "Best move for player 1\n",
      "•---•---•   •\n",
      "|   |\n",
      "•---•---•   •\n",
      "\n",
      "•   •   •   •\n",
      "    |\n",
      "•   •   •   •\n",
      "\n",
      "Best move for player 2\n",
      "•---•---•   •\n",
      "|   |\n",
      "•---•---•   •\n",
      "\n",
      "•   •   •   •\n",
      "            |\n",
      "•   •   •   •\n"
     ]
    }
   ],
   "source": [
    "Qs = [Qnet.use_pytorch(torch.from_numpy(np.array(state + [m])).double()) for m in moves]\n",
    "print('Best move for player 1')\n",
    "print_game(make_move(state, moves[(np.argmax(np.array(Qs)))]))\n",
    "print()\n",
    "print('Best move for player 2')\n",
    "print_game(make_move(state, moves[(np.argmin(np.array(Qs)))]))"
   ]
  },
  {
   "cell_type": "code",
   "execution_count": null,
   "metadata": {},
   "outputs": [],
   "source": []
  }
 ],
 "metadata": {
  "kernelspec": {
   "display_name": "Python 3",
   "language": "python",
   "name": "python3"
  },
  "language_info": {
   "codemirror_mode": {
    "name": "ipython",
    "version": 3
   },
   "file_extension": ".py",
   "mimetype": "text/x-python",
   "name": "python",
   "nbconvert_exporter": "python",
   "pygments_lexer": "ipython3",
   "version": "3.7.1"
  }
 },
 "nbformat": 4,
 "nbformat_minor": 2
}
